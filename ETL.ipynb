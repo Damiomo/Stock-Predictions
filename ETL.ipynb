{
 "cells": [
  {
   "cell_type": "code",
   "execution_count": 1,
   "id": "1cfa74a6-6bef-4fc4-b88a-3d5d2fbbb90d",
   "metadata": {},
   "outputs": [],
   "source": [
    "import sqlite3\n",
    "import pandas as pd\n",
    "import yfinance as yf\n",
    "from sklearn.linear_model import LinearRegression\n",
    "from sklearn.model_selection import GridSearchCV, train_test_split"
   ]
  },
  {
   "cell_type": "markdown",
   "id": "d2fbfb6b-e2ad-4871-8b5a-f27a0bbea677",
   "metadata": {},
   "source": [
    "# Data Model Implementation (25 points)"
   ]
  },
  {
   "cell_type": "code",
   "execution_count": 24,
   "id": "fd92180a-d57e-495e-9b25-cddb28909dba",
   "metadata": {},
   "outputs": [
    {
     "data": {
      "text/html": [
       "<div>\n",
       "<style scoped>\n",
       "    .dataframe tbody tr th:only-of-type {\n",
       "        vertical-align: middle;\n",
       "    }\n",
       "\n",
       "    .dataframe tbody tr th {\n",
       "        vertical-align: top;\n",
       "    }\n",
       "\n",
       "    .dataframe thead th {\n",
       "        text-align: right;\n",
       "    }\n",
       "</style>\n",
       "<table border=\"1\" class=\"dataframe\">\n",
       "  <thead>\n",
       "    <tr style=\"text-align: right;\">\n",
       "      <th></th>\n",
       "      <th>Open</th>\n",
       "      <th>High</th>\n",
       "      <th>Low</th>\n",
       "      <th>Close</th>\n",
       "      <th>Volume</th>\n",
       "      <th>Dividends</th>\n",
       "      <th>Stock Splits</th>\n",
       "    </tr>\n",
       "    <tr>\n",
       "      <th>Date</th>\n",
       "      <th></th>\n",
       "      <th></th>\n",
       "      <th></th>\n",
       "      <th></th>\n",
       "      <th></th>\n",
       "      <th></th>\n",
       "      <th></th>\n",
       "    </tr>\n",
       "  </thead>\n",
       "  <tbody>\n",
       "    <tr>\n",
       "      <th>2023-09-14 00:00:00-04:00</th>\n",
       "      <td>271.320007</td>\n",
       "      <td>276.709991</td>\n",
       "      <td>270.420013</td>\n",
       "      <td>276.040009</td>\n",
       "      <td>107709800</td>\n",
       "      <td>0.0</td>\n",
       "      <td>0.0</td>\n",
       "    </tr>\n",
       "    <tr>\n",
       "      <th>2023-09-15 00:00:00-04:00</th>\n",
       "      <td>277.549988</td>\n",
       "      <td>278.980011</td>\n",
       "      <td>271.000000</td>\n",
       "      <td>274.390015</td>\n",
       "      <td>133422800</td>\n",
       "      <td>0.0</td>\n",
       "      <td>0.0</td>\n",
       "    </tr>\n",
       "    <tr>\n",
       "      <th>2023-09-18 00:00:00-04:00</th>\n",
       "      <td>271.160004</td>\n",
       "      <td>271.440002</td>\n",
       "      <td>263.760010</td>\n",
       "      <td>265.279999</td>\n",
       "      <td>101543300</td>\n",
       "      <td>0.0</td>\n",
       "      <td>0.0</td>\n",
       "    </tr>\n",
       "    <tr>\n",
       "      <th>2023-09-19 00:00:00-04:00</th>\n",
       "      <td>264.350006</td>\n",
       "      <td>267.850006</td>\n",
       "      <td>261.200012</td>\n",
       "      <td>266.500000</td>\n",
       "      <td>103704000</td>\n",
       "      <td>0.0</td>\n",
       "      <td>0.0</td>\n",
       "    </tr>\n",
       "    <tr>\n",
       "      <th>2023-09-20 00:00:00-04:00</th>\n",
       "      <td>267.040009</td>\n",
       "      <td>273.929993</td>\n",
       "      <td>262.459991</td>\n",
       "      <td>262.589996</td>\n",
       "      <td>122514600</td>\n",
       "      <td>0.0</td>\n",
       "      <td>0.0</td>\n",
       "    </tr>\n",
       "  </tbody>\n",
       "</table>\n",
       "</div>"
      ],
      "text/plain": [
       "                                 Open        High         Low       Close  \\\n",
       "Date                                                                        \n",
       "2023-09-14 00:00:00-04:00  271.320007  276.709991  270.420013  276.040009   \n",
       "2023-09-15 00:00:00-04:00  277.549988  278.980011  271.000000  274.390015   \n",
       "2023-09-18 00:00:00-04:00  271.160004  271.440002  263.760010  265.279999   \n",
       "2023-09-19 00:00:00-04:00  264.350006  267.850006  261.200012  266.500000   \n",
       "2023-09-20 00:00:00-04:00  267.040009  273.929993  262.459991  262.589996   \n",
       "\n",
       "                              Volume  Dividends  Stock Splits  \n",
       "Date                                                           \n",
       "2023-09-14 00:00:00-04:00  107709800        0.0           0.0  \n",
       "2023-09-15 00:00:00-04:00  133422800        0.0           0.0  \n",
       "2023-09-18 00:00:00-04:00  101543300        0.0           0.0  \n",
       "2023-09-19 00:00:00-04:00  103704000        0.0           0.0  \n",
       "2023-09-20 00:00:00-04:00  122514600        0.0           0.0  "
      ]
     },
     "execution_count": 24,
     "metadata": {},
     "output_type": "execute_result"
    }
   ],
   "source": [
    "# The data is cleaned, normalized, and standardized prior to modeling (5 points)\n",
    "tesla = yf.Ticker('TSLA')\n",
    "hist = tesla.history('1y')\n",
    "hist[:5]"
   ]
  },
  {
   "cell_type": "code",
   "execution_count": 121,
   "id": "f7d67b99-c4b3-4422-90f7-c0264f199be4",
   "metadata": {},
   "outputs": [],
   "source": [
    "# dropped Volume, Dividends, and Stock Splits\n",
    "df = hist.drop(['Volume','Dividends','Stock Splits'],axis=1)\n",
    "\n",
    "# changing date format\n",
    "df.index = df.index.strftime('%Y-%m-%d %a')\n",
    "\n",
    "# Dropping the first two rows to start on a Monday\n",
    "df = df[2:]"
   ]
  },
  {
   "cell_type": "code",
   "execution_count": 122,
   "id": "7f09d802-4a37-4d3f-94a2-193c07815767",
   "metadata": {},
   "outputs": [
    {
     "data": {
      "text/plain": [
       "250"
      ]
     },
     "execution_count": 122,
     "metadata": {},
     "output_type": "execute_result"
    }
   ],
   "source": [
    "# The model utilizes data retrieved from SQL or Spark (5 points)\n",
    "db = sqlite3.connect('stock_db.sqlite')\n",
    "df.to_sql('tesla',db, if_exists='replace')"
   ]
  },
  {
   "cell_type": "code",
   "execution_count": 127,
   "id": "a318b713-61fc-4bde-960c-6137fa048021",
   "metadata": {},
   "outputs": [
    {
     "data": {
      "text/html": [
       "<div>\n",
       "<style scoped>\n",
       "    .dataframe tbody tr th:only-of-type {\n",
       "        vertical-align: middle;\n",
       "    }\n",
       "\n",
       "    .dataframe tbody tr th {\n",
       "        vertical-align: top;\n",
       "    }\n",
       "\n",
       "    .dataframe thead th {\n",
       "        text-align: right;\n",
       "    }\n",
       "</style>\n",
       "<table border=\"1\" class=\"dataframe\">\n",
       "  <thead>\n",
       "    <tr style=\"text-align: right;\">\n",
       "      <th></th>\n",
       "      <th>Open</th>\n",
       "      <th>High</th>\n",
       "      <th>Low</th>\n",
       "      <th>Close</th>\n",
       "    </tr>\n",
       "    <tr>\n",
       "      <th>Date</th>\n",
       "      <th></th>\n",
       "      <th></th>\n",
       "      <th></th>\n",
       "      <th></th>\n",
       "    </tr>\n",
       "  </thead>\n",
       "  <tbody>\n",
       "    <tr>\n",
       "      <th>2023-09-18 Mon</th>\n",
       "      <td>271.160004</td>\n",
       "      <td>271.440002</td>\n",
       "      <td>263.760010</td>\n",
       "      <td>265.279999</td>\n",
       "    </tr>\n",
       "    <tr>\n",
       "      <th>2023-09-19 Tue</th>\n",
       "      <td>264.350006</td>\n",
       "      <td>267.850006</td>\n",
       "      <td>261.200012</td>\n",
       "      <td>266.500000</td>\n",
       "    </tr>\n",
       "    <tr>\n",
       "      <th>2023-09-20 Wed</th>\n",
       "      <td>267.040009</td>\n",
       "      <td>273.929993</td>\n",
       "      <td>262.459991</td>\n",
       "      <td>262.589996</td>\n",
       "    </tr>\n",
       "    <tr>\n",
       "      <th>2023-09-21 Thu</th>\n",
       "      <td>257.850006</td>\n",
       "      <td>260.859985</td>\n",
       "      <td>254.210007</td>\n",
       "      <td>255.699997</td>\n",
       "    </tr>\n",
       "    <tr>\n",
       "      <th>2023-09-22 Fri</th>\n",
       "      <td>257.399994</td>\n",
       "      <td>257.790009</td>\n",
       "      <td>244.479996</td>\n",
       "      <td>244.880005</td>\n",
       "    </tr>\n",
       "  </tbody>\n",
       "</table>\n",
       "</div>"
      ],
      "text/plain": [
       "                      Open        High         Low       Close\n",
       "Date                                                          \n",
       "2023-09-18 Mon  271.160004  271.440002  263.760010  265.279999\n",
       "2023-09-19 Tue  264.350006  267.850006  261.200012  266.500000\n",
       "2023-09-20 Wed  267.040009  273.929993  262.459991  262.589996\n",
       "2023-09-21 Thu  257.850006  260.859985  254.210007  255.699997\n",
       "2023-09-22 Fri  257.399994  257.790009  244.479996  244.880005"
      ]
     },
     "execution_count": 127,
     "metadata": {},
     "output_type": "execute_result"
    }
   ],
   "source": [
    "df = pd.read_sql('SELECT * FROM tesla', db, index_col='Date')\n",
    "df[:5]"
   ]
  },
  {
   "cell_type": "code",
   "execution_count": 128,
   "id": "75aaaaeb-9bab-4a4f-9cf8-4cd4c8a9bbbb",
   "metadata": {},
   "outputs": [
    {
     "name": "stdout",
     "output_type": "stream",
     "text": [
      "Generating labels. Since I'm generating a label based on the next day's information, I need to have one less label.\n",
      "rows on dataframe: 250\n",
      "Count of labels: 249\n"
     ]
    }
   ],
   "source": [
    "# Generating labels. Since I'm generating a label based on the next day's information, I need to have one less label.\n",
    "print(\"Generating labels. Since I'm generating a label based on the next day's information, I need to have one less label.\")\n",
    "print(f'rows on dataframe: {len(df)}')\n",
    "\n",
    "labels = []\n",
    "for i in range(len(df)-1):\n",
    "    today = df.iloc[i]\n",
    "    tomorrow = df.iloc[i+1]\n",
    "    \n",
    "    if today.Open<tomorrow.Open:\n",
    "        labels.append('Buy')\n",
    "    else:\n",
    "        labels.append('Sell')\n",
    "\n",
    "print(f'Count of labels: {len(labels)}')"
   ]
  },
  {
   "cell_type": "code",
   "execution_count": 129,
   "id": "16a55beb-0c98-4070-b92d-8cbbbd561805",
   "metadata": {},
   "outputs": [
    {
     "data": {
      "text/html": [
       "<div>\n",
       "<style scoped>\n",
       "    .dataframe tbody tr th:only-of-type {\n",
       "        vertical-align: middle;\n",
       "    }\n",
       "\n",
       "    .dataframe tbody tr th {\n",
       "        vertical-align: top;\n",
       "    }\n",
       "\n",
       "    .dataframe thead th {\n",
       "        text-align: right;\n",
       "    }\n",
       "</style>\n",
       "<table border=\"1\" class=\"dataframe\">\n",
       "  <thead>\n",
       "    <tr style=\"text-align: right;\">\n",
       "      <th></th>\n",
       "      <th>Open</th>\n",
       "      <th>High</th>\n",
       "      <th>Low</th>\n",
       "      <th>Close</th>\n",
       "      <th>Recomendation</th>\n",
       "    </tr>\n",
       "    <tr>\n",
       "      <th>Date</th>\n",
       "      <th></th>\n",
       "      <th></th>\n",
       "      <th></th>\n",
       "      <th></th>\n",
       "      <th></th>\n",
       "    </tr>\n",
       "  </thead>\n",
       "  <tbody>\n",
       "    <tr>\n",
       "      <th>2023-09-18 Mon</th>\n",
       "      <td>271.160004</td>\n",
       "      <td>271.440002</td>\n",
       "      <td>263.760010</td>\n",
       "      <td>265.279999</td>\n",
       "      <td>Sell</td>\n",
       "    </tr>\n",
       "    <tr>\n",
       "      <th>2023-09-19 Tue</th>\n",
       "      <td>264.350006</td>\n",
       "      <td>267.850006</td>\n",
       "      <td>261.200012</td>\n",
       "      <td>266.500000</td>\n",
       "      <td>Buy</td>\n",
       "    </tr>\n",
       "    <tr>\n",
       "      <th>2023-09-20 Wed</th>\n",
       "      <td>267.040009</td>\n",
       "      <td>273.929993</td>\n",
       "      <td>262.459991</td>\n",
       "      <td>262.589996</td>\n",
       "      <td>Sell</td>\n",
       "    </tr>\n",
       "    <tr>\n",
       "      <th>2023-09-21 Thu</th>\n",
       "      <td>257.850006</td>\n",
       "      <td>260.859985</td>\n",
       "      <td>254.210007</td>\n",
       "      <td>255.699997</td>\n",
       "      <td>Sell</td>\n",
       "    </tr>\n",
       "    <tr>\n",
       "      <th>2023-09-22 Fri</th>\n",
       "      <td>257.399994</td>\n",
       "      <td>257.790009</td>\n",
       "      <td>244.479996</td>\n",
       "      <td>244.880005</td>\n",
       "      <td>Sell</td>\n",
       "    </tr>\n",
       "    <tr>\n",
       "      <th>...</th>\n",
       "      <td>...</td>\n",
       "      <td>...</td>\n",
       "      <td>...</td>\n",
       "      <td>...</td>\n",
       "      <td>...</td>\n",
       "    </tr>\n",
       "    <tr>\n",
       "      <th>2024-09-06 Fri</th>\n",
       "      <td>232.600006</td>\n",
       "      <td>233.600006</td>\n",
       "      <td>210.509995</td>\n",
       "      <td>210.729996</td>\n",
       "      <td>Sell</td>\n",
       "    </tr>\n",
       "    <tr>\n",
       "      <th>2024-09-09 Mon</th>\n",
       "      <td>216.199997</td>\n",
       "      <td>219.869995</td>\n",
       "      <td>213.669998</td>\n",
       "      <td>216.270004</td>\n",
       "      <td>Buy</td>\n",
       "    </tr>\n",
       "    <tr>\n",
       "      <th>2024-09-10 Tue</th>\n",
       "      <td>220.070007</td>\n",
       "      <td>226.399994</td>\n",
       "      <td>218.639999</td>\n",
       "      <td>226.169998</td>\n",
       "      <td>Buy</td>\n",
       "    </tr>\n",
       "    <tr>\n",
       "      <th>2024-09-11 Wed</th>\n",
       "      <td>224.550003</td>\n",
       "      <td>228.470001</td>\n",
       "      <td>216.800003</td>\n",
       "      <td>228.130005</td>\n",
       "      <td>Buy</td>\n",
       "    </tr>\n",
       "    <tr>\n",
       "      <th>2024-09-12 Thu</th>\n",
       "      <td>224.660004</td>\n",
       "      <td>231.449997</td>\n",
       "      <td>223.830002</td>\n",
       "      <td>229.809998</td>\n",
       "      <td>Buy</td>\n",
       "    </tr>\n",
       "  </tbody>\n",
       "</table>\n",
       "<p>249 rows × 5 columns</p>\n",
       "</div>"
      ],
      "text/plain": [
       "                      Open        High         Low       Close Recomendation\n",
       "Date                                                                        \n",
       "2023-09-18 Mon  271.160004  271.440002  263.760010  265.279999          Sell\n",
       "2023-09-19 Tue  264.350006  267.850006  261.200012  266.500000           Buy\n",
       "2023-09-20 Wed  267.040009  273.929993  262.459991  262.589996          Sell\n",
       "2023-09-21 Thu  257.850006  260.859985  254.210007  255.699997          Sell\n",
       "2023-09-22 Fri  257.399994  257.790009  244.479996  244.880005          Sell\n",
       "...                    ...         ...         ...         ...           ...\n",
       "2024-09-06 Fri  232.600006  233.600006  210.509995  210.729996          Sell\n",
       "2024-09-09 Mon  216.199997  219.869995  213.669998  216.270004           Buy\n",
       "2024-09-10 Tue  220.070007  226.399994  218.639999  226.169998           Buy\n",
       "2024-09-11 Wed  224.550003  228.470001  216.800003  228.130005           Buy\n",
       "2024-09-12 Thu  224.660004  231.449997  223.830002  229.809998           Buy\n",
       "\n",
       "[249 rows x 5 columns]"
      ]
     },
     "execution_count": 129,
     "metadata": {},
     "output_type": "execute_result"
    }
   ],
   "source": [
    "# A Python script initializes, trains, and evaluates a model (10 points)\n",
    "# I need to drop last row of data so lables can match\n",
    "df = df[:-1].copy()\n",
    "\n",
    "# Adding labels to dataframe\n",
    "df['Recomendation'] = labels\n",
    "\n",
    "# displaying dataframe\n",
    "df"
   ]
  },
  {
   "cell_type": "code",
   "execution_count": 136,
   "id": "0da6e9b0-4520-4dee-a7e4-a68416a1ea60",
   "metadata": {},
   "outputs": [],
   "source": [
    "X = df.drop('Recomendation',axis=1).values\n",
    "y = df.Recomendation.values"
   ]
  },
  {
   "cell_type": "code",
   "execution_count": 138,
   "id": "e9511553-ba29-4b9f-8715-5b3c1d5ec458",
   "metadata": {},
   "outputs": [
    {
     "data": {
      "text/plain": [
       "array([[271.16000366, 271.44000244, 263.76000977, 265.27999878],\n",
       "       [264.3500061 , 267.8500061 , 261.20001221, 266.5       ],\n",
       "       [267.04000854, 273.92999268, 262.45999146, 262.58999634],\n",
       "       [257.8500061 , 260.85998535, 254.21000671, 255.69999695],\n",
       "       [257.3999939 , 257.79000854, 244.47999573, 244.88000488]])"
      ]
     },
     "execution_count": 138,
     "metadata": {},
     "output_type": "execute_result"
    }
   ],
   "source": [
    "X[:5]"
   ]
  },
  {
   "cell_type": "code",
   "execution_count": 139,
   "id": "bbcaa19f-da98-48ee-95d5-8c19f8426e7e",
   "metadata": {},
   "outputs": [
    {
     "data": {
      "text/plain": [
       "array(['Sell', 'Buy', 'Sell', 'Sell', 'Sell'], dtype=object)"
      ]
     },
     "execution_count": 139,
     "metadata": {},
     "output_type": "execute_result"
    }
   ],
   "source": [
    "y[:5]"
   ]
  }
 ],
 "metadata": {
  "kernelspec": {
   "display_name": "Python 3 (ipykernel)",
   "language": "python",
   "name": "python3"
  },
  "language_info": {
   "codemirror_mode": {
    "name": "ipython",
    "version": 3
   },
   "file_extension": ".py",
   "mimetype": "text/x-python",
   "name": "python",
   "nbconvert_exporter": "python",
   "pygments_lexer": "ipython3",
   "version": "3.11.7"
  }
 },
 "nbformat": 4,
 "nbformat_minor": 5
}
