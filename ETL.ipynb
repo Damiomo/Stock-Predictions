{
  "cells": [
    {
      "cell_type": "code",
      "execution_count": 1,
      "id": "1cfa74a6-6bef-4fc4-b88a-3d5d2fbbb90d",
      "metadata": {
        "id": "1cfa74a6-6bef-4fc4-b88a-3d5d2fbbb90d"
      },
      "outputs": [],
      "source": [
        "import sqlite3\n",
        "import pandas as pd\n",
        "import yfinance as yf\n",
        "from sklearn.linear_model import LinearRegression\n",
        "from sklearn.model_selection import GridSearchCV, train_test_split"
      ]
    },
    {
      "cell_type": "markdown",
      "id": "d2fbfb6b-e2ad-4871-8b5a-f27a0bbea677",
      "metadata": {
        "id": "d2fbfb6b-e2ad-4871-8b5a-f27a0bbea677"
      },
      "source": [
        "#### Data Model Implementation (25 points)"
      ]
    },
    {
      "cell_type": "code",
      "execution_count": null,
      "id": "fd92180a-d57e-495e-9b25-cddb28909dba",
      "metadata": {
        "id": "fd92180a-d57e-495e-9b25-cddb28909dba",
        "outputId": "5e6f2a1b-7c0d-4545-ad2e-3de5933876d8"
      },
      "outputs": [
        {
          "data": {
            "text/html": [
              "<div>\n",
              "<style scoped>\n",
              "    .dataframe tbody tr th:only-of-type {\n",
              "        vertical-align: middle;\n",
              "    }\n",
              "\n",
              "    .dataframe tbody tr th {\n",
              "        vertical-align: top;\n",
              "    }\n",
              "\n",
              "    .dataframe thead th {\n",
              "        text-align: right;\n",
              "    }\n",
              "</style>\n",
              "<table border=\"1\" class=\"dataframe\">\n",
              "  <thead>\n",
              "    <tr style=\"text-align: right;\">\n",
              "      <th></th>\n",
              "      <th>Open</th>\n",
              "      <th>High</th>\n",
              "      <th>Low</th>\n",
              "      <th>Close</th>\n",
              "      <th>Volume</th>\n",
              "      <th>Dividends</th>\n",
              "      <th>Stock Splits</th>\n",
              "    </tr>\n",
              "    <tr>\n",
              "      <th>Date</th>\n",
              "      <th></th>\n",
              "      <th></th>\n",
              "      <th></th>\n",
              "      <th></th>\n",
              "      <th></th>\n",
              "      <th></th>\n",
              "      <th></th>\n",
              "    </tr>\n",
              "  </thead>\n",
              "  <tbody>\n",
              "    <tr>\n",
              "      <th>2023-09-18 00:00:00-04:00</th>\n",
              "      <td>325.357807</td>\n",
              "      <td>327.938442</td>\n",
              "      <td>323.928532</td>\n",
              "      <td>326.608429</td>\n",
              "      <td>16834200</td>\n",
              "      <td>0.0</td>\n",
              "      <td>0.0</td>\n",
              "    </tr>\n",
              "    <tr>\n",
              "      <th>2023-09-19 00:00:00-04:00</th>\n",
              "      <td>323.739973</td>\n",
              "      <td>326.935984</td>\n",
              "      <td>322.092337</td>\n",
              "      <td>326.201477</td>\n",
              "      <td>16505900</td>\n",
              "      <td>0.0</td>\n",
              "      <td>0.0</td>\n",
              "    </tr>\n",
              "    <tr>\n",
              "      <th>2023-09-20 00:00:00-04:00</th>\n",
              "      <td>327.055125</td>\n",
              "      <td>327.134516</td>\n",
              "      <td>318.122176</td>\n",
              "      <td>318.380219</td>\n",
              "      <td>21436500</td>\n",
              "      <td>0.0</td>\n",
              "      <td>0.0</td>\n",
              "    </tr>\n",
              "    <tr>\n",
              "      <th>2023-09-21 00:00:00-04:00</th>\n",
              "      <td>316.881498</td>\n",
              "      <td>322.926123</td>\n",
              "      <td>312.653225</td>\n",
              "      <td>317.149475</td>\n",
              "      <td>35529500</td>\n",
              "      <td>0.0</td>\n",
              "      <td>0.0</td>\n",
              "    </tr>\n",
              "    <tr>\n",
              "      <th>2023-09-22 00:00:00-04:00</th>\n",
              "      <td>318.926111</td>\n",
              "      <td>319.055147</td>\n",
              "      <td>313.794615</td>\n",
              "      <td>314.648224</td>\n",
              "      <td>21447900</td>\n",
              "      <td>0.0</td>\n",
              "      <td>0.0</td>\n",
              "    </tr>\n",
              "  </tbody>\n",
              "</table>\n",
              "</div>"
            ],
            "text/plain": [
              "                                 Open        High         Low       Close  \\\n",
              "Date                                                                        \n",
              "2023-09-18 00:00:00-04:00  325.357807  327.938442  323.928532  326.608429   \n",
              "2023-09-19 00:00:00-04:00  323.739973  326.935984  322.092337  326.201477   \n",
              "2023-09-20 00:00:00-04:00  327.055125  327.134516  318.122176  318.380219   \n",
              "2023-09-21 00:00:00-04:00  316.881498  322.926123  312.653225  317.149475   \n",
              "2023-09-22 00:00:00-04:00  318.926111  319.055147  313.794615  314.648224   \n",
              "\n",
              "                             Volume  Dividends  Stock Splits  \n",
              "Date                                                          \n",
              "2023-09-18 00:00:00-04:00  16834200        0.0           0.0  \n",
              "2023-09-19 00:00:00-04:00  16505900        0.0           0.0  \n",
              "2023-09-20 00:00:00-04:00  21436500        0.0           0.0  \n",
              "2023-09-21 00:00:00-04:00  35529500        0.0           0.0  \n",
              "2023-09-22 00:00:00-04:00  21447900        0.0           0.0  "
            ]
          },
          "execution_count": 44,
          "metadata": {},
          "output_type": "execute_result"
        }
      ],
      "source": [
        "# The data is cleaned, normalized, and standardized prior to modeling (5 points)\n",
        "msft = yf.Ticker('MSFT')\n",
        "hist = msft.history('1y')\n",
        "hist[:5]"
      ]
    },
    {
      "cell_type": "code",
      "execution_count": null,
      "id": "f7d67b99-c4b3-4422-90f7-c0264f199be4",
      "metadata": {
        "id": "f7d67b99-c4b3-4422-90f7-c0264f199be4"
      },
      "outputs": [],
      "source": [
        "# dropped Volume, Dividends, and Stock Splits\n",
        "df = hist.drop(['Volume','Dividends','Stock Splits'],axis=1)\n",
        "\n",
        "# changing date format\n",
        "df.index = df.index.strftime('%Y-%m-%d %a')\n",
        "\n",
        "# Dropping the first two rows to start on a Monday\n",
        "df = df[2:]"
      ]
    },
    {
      "cell_type": "code",
      "execution_count": null,
      "id": "7f09d802-4a37-4d3f-94a2-193c07815767",
      "metadata": {
        "id": "7f09d802-4a37-4d3f-94a2-193c07815767"
      },
      "outputs": [],
      "source": [
        "# create and connect to sqlite database stock_db\n",
        "db = sqlite3.connect('stock_db.sqlite')"
      ]
    },
    {
      "cell_type": "code",
      "execution_count": null,
      "id": "6963368b",
      "metadata": {
        "id": "6963368b",
        "outputId": "ea1d0afc-9e45-40ac-d36a-eaff8f969163"
      },
      "outputs": [
        {
          "data": {
            "text/plain": [
              "249"
            ]
          },
          "execution_count": 47,
          "metadata": {},
          "output_type": "execute_result"
        }
      ],
      "source": [
        "# Create or replace tesla table and load df data to it.\n",
        "df.to_sql('msft',db, if_exists='replace')"
      ]
    },
    {
      "cell_type": "code",
      "execution_count": null,
      "id": "a318b713-61fc-4bde-960c-6137fa048021",
      "metadata": {
        "id": "a318b713-61fc-4bde-960c-6137fa048021",
        "outputId": "7cd51615-62c2-419d-c03d-94e36ede72d7"
      },
      "outputs": [
        {
          "data": {
            "text/html": [
              "<div>\n",
              "<style scoped>\n",
              "    .dataframe tbody tr th:only-of-type {\n",
              "        vertical-align: middle;\n",
              "    }\n",
              "\n",
              "    .dataframe tbody tr th {\n",
              "        vertical-align: top;\n",
              "    }\n",
              "\n",
              "    .dataframe thead th {\n",
              "        text-align: right;\n",
              "    }\n",
              "</style>\n",
              "<table border=\"1\" class=\"dataframe\">\n",
              "  <thead>\n",
              "    <tr style=\"text-align: right;\">\n",
              "      <th></th>\n",
              "      <th>Open</th>\n",
              "      <th>High</th>\n",
              "      <th>Low</th>\n",
              "      <th>Close</th>\n",
              "    </tr>\n",
              "    <tr>\n",
              "      <th>Date</th>\n",
              "      <th></th>\n",
              "      <th></th>\n",
              "      <th></th>\n",
              "      <th></th>\n",
              "    </tr>\n",
              "  </thead>\n",
              "  <tbody>\n",
              "    <tr>\n",
              "      <th>2023-09-20 Wed</th>\n",
              "      <td>327.055125</td>\n",
              "      <td>327.134516</td>\n",
              "      <td>318.122176</td>\n",
              "      <td>318.380219</td>\n",
              "    </tr>\n",
              "    <tr>\n",
              "      <th>2023-09-21 Thu</th>\n",
              "      <td>316.881498</td>\n",
              "      <td>322.926123</td>\n",
              "      <td>312.653225</td>\n",
              "      <td>317.149475</td>\n",
              "    </tr>\n",
              "    <tr>\n",
              "      <th>2023-09-22 Fri</th>\n",
              "      <td>318.926111</td>\n",
              "      <td>319.055147</td>\n",
              "      <td>313.794615</td>\n",
              "      <td>314.648224</td>\n",
              "    </tr>\n",
              "    <tr>\n",
              "      <th>2023-09-25 Mon</th>\n",
              "      <td>314.231351</td>\n",
              "      <td>315.303322</td>\n",
              "      <td>312.653201</td>\n",
              "      <td>315.174286</td>\n",
              "    </tr>\n",
              "    <tr>\n",
              "      <th>2023-09-26 Tue</th>\n",
              "      <td>312.782259</td>\n",
              "      <td>313.526672</td>\n",
              "      <td>307.710313</td>\n",
              "      <td>309.814545</td>\n",
              "    </tr>\n",
              "  </tbody>\n",
              "</table>\n",
              "</div>"
            ],
            "text/plain": [
              "                      Open        High         Low       Close\n",
              "Date                                                          \n",
              "2023-09-20 Wed  327.055125  327.134516  318.122176  318.380219\n",
              "2023-09-21 Thu  316.881498  322.926123  312.653225  317.149475\n",
              "2023-09-22 Fri  318.926111  319.055147  313.794615  314.648224\n",
              "2023-09-25 Mon  314.231351  315.303322  312.653201  315.174286\n",
              "2023-09-26 Tue  312.782259  313.526672  307.710313  309.814545"
            ]
          },
          "execution_count": 48,
          "metadata": {},
          "output_type": "execute_result"
        }
      ],
      "source": [
        "# The model utilizes data retrieved from SQL or Spark (5 points)\n",
        "# read table tesla from stock_db\n",
        "df = pd.read_sql('SELECT * FROM msft', db, index_col='Date')\n",
        "df[:5]"
      ]
    },
    {
      "cell_type": "code",
      "execution_count": null,
      "id": "75aaaaeb-9bab-4a4f-9cf8-4cd4c8a9bbbb",
      "metadata": {
        "id": "75aaaaeb-9bab-4a4f-9cf8-4cd4c8a9bbbb",
        "outputId": "7813392b-03fe-4827-ab95-f822cc070a5c"
      },
      "outputs": [
        {
          "name": "stdout",
          "output_type": "stream",
          "text": [
            "Generating labels. Since I'm generating a label based on the next day's information, I need to have one less label.\n",
            "rows on dataframe: 249\n",
            "Count of labels: 248\n"
          ]
        }
      ],
      "source": [
        "# Generating labels. Since I'm generating a label based on the next day's information, I need to have one less label.\n",
        "print(\"Generating labels. Since I'm generating a label based on the next day's information, I need to have one less label.\")\n",
        "print(f'rows on dataframe: {len(df)}')\n",
        "\n",
        "labels = []\n",
        "for i in range(len(df)-1):\n",
        "    today = df.iloc[i]\n",
        "    tomorrow = df.iloc[i+1]\n",
        "\n",
        "    if today.Open<tomorrow.Open:\n",
        "        labels.append('Buy')\n",
        "    else:\n",
        "        labels.append('Sell')\n",
        "\n",
        "print(f'Count of labels: {len(labels)}')"
      ]
    },
    {
      "cell_type": "code",
      "execution_count": null,
      "id": "16a55beb-0c98-4070-b92d-8cbbbd561805",
      "metadata": {
        "id": "16a55beb-0c98-4070-b92d-8cbbbd561805",
        "outputId": "e9ed7731-dbc0-4b99-fff8-3aca45e2dc5c"
      },
      "outputs": [
        {
          "data": {
            "text/html": [
              "<div>\n",
              "<style scoped>\n",
              "    .dataframe tbody tr th:only-of-type {\n",
              "        vertical-align: middle;\n",
              "    }\n",
              "\n",
              "    .dataframe tbody tr th {\n",
              "        vertical-align: top;\n",
              "    }\n",
              "\n",
              "    .dataframe thead th {\n",
              "        text-align: right;\n",
              "    }\n",
              "</style>\n",
              "<table border=\"1\" class=\"dataframe\">\n",
              "  <thead>\n",
              "    <tr style=\"text-align: right;\">\n",
              "      <th></th>\n",
              "      <th>Open</th>\n",
              "      <th>High</th>\n",
              "      <th>Low</th>\n",
              "      <th>Close</th>\n",
              "      <th>Recomendation</th>\n",
              "    </tr>\n",
              "    <tr>\n",
              "      <th>Date</th>\n",
              "      <th></th>\n",
              "      <th></th>\n",
              "      <th></th>\n",
              "      <th></th>\n",
              "      <th></th>\n",
              "    </tr>\n",
              "  </thead>\n",
              "  <tbody>\n",
              "    <tr>\n",
              "      <th>2023-09-20 Wed</th>\n",
              "      <td>327.055125</td>\n",
              "      <td>327.134516</td>\n",
              "      <td>318.122176</td>\n",
              "      <td>318.380219</td>\n",
              "      <td>Sell</td>\n",
              "    </tr>\n",
              "    <tr>\n",
              "      <th>2023-09-21 Thu</th>\n",
              "      <td>316.881498</td>\n",
              "      <td>322.926123</td>\n",
              "      <td>312.653225</td>\n",
              "      <td>317.149475</td>\n",
              "      <td>Buy</td>\n",
              "    </tr>\n",
              "    <tr>\n",
              "      <th>2023-09-22 Fri</th>\n",
              "      <td>318.926111</td>\n",
              "      <td>319.055147</td>\n",
              "      <td>313.794615</td>\n",
              "      <td>314.648224</td>\n",
              "      <td>Sell</td>\n",
              "    </tr>\n",
              "    <tr>\n",
              "      <th>2023-09-25 Mon</th>\n",
              "      <td>314.231351</td>\n",
              "      <td>315.303322</td>\n",
              "      <td>312.653201</td>\n",
              "      <td>315.174286</td>\n",
              "      <td>Sell</td>\n",
              "    </tr>\n",
              "    <tr>\n",
              "      <th>2023-09-26 Tue</th>\n",
              "      <td>312.782259</td>\n",
              "      <td>313.526672</td>\n",
              "      <td>307.710313</td>\n",
              "      <td>309.814545</td>\n",
              "      <td>Sell</td>\n",
              "    </tr>\n",
              "    <tr>\n",
              "      <th>...</th>\n",
              "      <td>...</td>\n",
              "      <td>...</td>\n",
              "      <td>...</td>\n",
              "      <td>...</td>\n",
              "      <td>...</td>\n",
              "    </tr>\n",
              "    <tr>\n",
              "      <th>2024-09-09 Mon</th>\n",
              "      <td>407.239990</td>\n",
              "      <td>408.649994</td>\n",
              "      <td>402.149994</td>\n",
              "      <td>405.720001</td>\n",
              "      <td>Buy</td>\n",
              "    </tr>\n",
              "    <tr>\n",
              "      <th>2024-09-10 Tue</th>\n",
              "      <td>408.200012</td>\n",
              "      <td>416.329987</td>\n",
              "      <td>407.700012</td>\n",
              "      <td>414.200012</td>\n",
              "      <td>Buy</td>\n",
              "    </tr>\n",
              "    <tr>\n",
              "      <th>2024-09-11 Wed</th>\n",
              "      <td>415.500000</td>\n",
              "      <td>423.989990</td>\n",
              "      <td>409.579987</td>\n",
              "      <td>423.040009</td>\n",
              "      <td>Buy</td>\n",
              "    </tr>\n",
              "    <tr>\n",
              "      <th>2024-09-12 Thu</th>\n",
              "      <td>423.309998</td>\n",
              "      <td>427.369995</td>\n",
              "      <td>419.750000</td>\n",
              "      <td>427.000000</td>\n",
              "      <td>Buy</td>\n",
              "    </tr>\n",
              "    <tr>\n",
              "      <th>2024-09-13 Fri</th>\n",
              "      <td>425.829987</td>\n",
              "      <td>431.829987</td>\n",
              "      <td>425.459991</td>\n",
              "      <td>430.589996</td>\n",
              "      <td>Buy</td>\n",
              "    </tr>\n",
              "  </tbody>\n",
              "</table>\n",
              "<p>248 rows × 5 columns</p>\n",
              "</div>"
            ],
            "text/plain": [
              "                      Open        High         Low       Close Recomendation\n",
              "Date                                                                        \n",
              "2023-09-20 Wed  327.055125  327.134516  318.122176  318.380219          Sell\n",
              "2023-09-21 Thu  316.881498  322.926123  312.653225  317.149475           Buy\n",
              "2023-09-22 Fri  318.926111  319.055147  313.794615  314.648224          Sell\n",
              "2023-09-25 Mon  314.231351  315.303322  312.653201  315.174286          Sell\n",
              "2023-09-26 Tue  312.782259  313.526672  307.710313  309.814545          Sell\n",
              "...                    ...         ...         ...         ...           ...\n",
              "2024-09-09 Mon  407.239990  408.649994  402.149994  405.720001           Buy\n",
              "2024-09-10 Tue  408.200012  416.329987  407.700012  414.200012           Buy\n",
              "2024-09-11 Wed  415.500000  423.989990  409.579987  423.040009           Buy\n",
              "2024-09-12 Thu  423.309998  427.369995  419.750000  427.000000           Buy\n",
              "2024-09-13 Fri  425.829987  431.829987  425.459991  430.589996           Buy\n",
              "\n",
              "[248 rows x 5 columns]"
            ]
          },
          "execution_count": 50,
          "metadata": {},
          "output_type": "execute_result"
        }
      ],
      "source": [
        "# A Python script initializes, trains, and evaluates a model (10 points)\n",
        "# I need to drop last row of data so lables can match\n",
        "df = df[:-1].copy()\n",
        "\n",
        "# Adding labels to dataframe\n",
        "df['Recomendation'] = labels\n",
        "\n",
        "# displaying dataframe\n",
        "df"
      ]
    },
    {
      "cell_type": "code",
      "execution_count": null,
      "id": "0da6e9b0-4520-4dee-a7e4-a68416a1ea60",
      "metadata": {
        "id": "0da6e9b0-4520-4dee-a7e4-a68416a1ea60"
      },
      "outputs": [],
      "source": [
        "# The data is cleaned, normalized, and standardized prior to modeling (5 points)\n",
        "# splitting data into X and y\n",
        "X = df.drop('Recomendation',axis=1).values\n",
        "y = df.Recomendation.values"
      ]
    },
    {
      "cell_type": "code",
      "execution_count": null,
      "id": "e9511553-ba29-4b9f-8715-5b3c1d5ec458",
      "metadata": {
        "id": "e9511553-ba29-4b9f-8715-5b3c1d5ec458",
        "outputId": "b10ef2ea-81d2-4539-e478-e96412e8f3b7"
      },
      "outputs": [
        {
          "data": {
            "text/plain": [
              "array([[327.05512517, 327.13451584, 318.12217613, 318.38021851],\n",
              "       [316.88149752, 322.92612291, 312.65322517, 317.1494751 ],\n",
              "       [318.92611112, 319.05514744, 313.79461529, 314.64822388],\n",
              "       [314.23135142, 315.30332221, 312.6532008 , 315.17428589],\n",
              "       [312.78225923, 313.52667166, 307.71031342, 309.81454468]])"
            ]
          },
          "execution_count": 52,
          "metadata": {},
          "output_type": "execute_result"
        }
      ],
      "source": [
        "X[:5]"
      ]
    },
    {
      "cell_type": "code",
      "execution_count": null,
      "id": "bbcaa19f-da98-48ee-95d5-8c19f8426e7e",
      "metadata": {
        "id": "bbcaa19f-da98-48ee-95d5-8c19f8426e7e",
        "outputId": "2d2a1252-4026-4a22-b866-3c32c4adc429"
      },
      "outputs": [
        {
          "data": {
            "text/plain": [
              "array(['Sell', 'Buy', 'Sell', 'Sell', 'Sell'], dtype=object)"
            ]
          },
          "execution_count": 53,
          "metadata": {},
          "output_type": "execute_result"
        }
      ],
      "source": [
        "y[:5]"
      ]
    },
    {
      "cell_type": "code",
      "execution_count": null,
      "id": "d2cc208c",
      "metadata": {
        "id": "d2cc208c",
        "outputId": "599e4921-20a7-4d0e-92f3-fff3843e01ee"
      },
      "outputs": [
        {
          "data": {
            "text/plain": [
              "[1, 0, 1, 1, 1]"
            ]
          },
          "execution_count": 54,
          "metadata": {},
          "output_type": "execute_result"
        }
      ],
      "source": [
        "# Tokenizing labels\n",
        "new_y = [ 1 if v=='Sell' else 0 for v in y]\n",
        "new_y[:5]"
      ]
    },
    {
      "cell_type": "code",
      "execution_count": null,
      "id": "dc85d7fc",
      "metadata": {
        "id": "dc85d7fc"
      },
      "outputs": [],
      "source": [
        "# Split data into training and validation\n",
        "X_train, X_test, y_train, y_test = train_test_split(X,new_y)"
      ]
    },
    {
      "cell_type": "code",
      "execution_count": null,
      "id": "a0a1df67",
      "metadata": {
        "id": "a0a1df67",
        "outputId": "66e9167f-b878-49f7-f3a3-623223a66926"
      },
      "outputs": [
        {
          "data": {
            "text/html": [
              "<style>#sk-container-id-6 {color: black;background-color: white;}#sk-container-id-6 pre{padding: 0;}#sk-container-id-6 div.sk-toggleable {background-color: white;}#sk-container-id-6 label.sk-toggleable__label {cursor: pointer;display: block;width: 100%;margin-bottom: 0;padding: 0.3em;box-sizing: border-box;text-align: center;}#sk-container-id-6 label.sk-toggleable__label-arrow:before {content: \"▸\";float: left;margin-right: 0.25em;color: #696969;}#sk-container-id-6 label.sk-toggleable__label-arrow:hover:before {color: black;}#sk-container-id-6 div.sk-estimator:hover label.sk-toggleable__label-arrow:before {color: black;}#sk-container-id-6 div.sk-toggleable__content {max-height: 0;max-width: 0;overflow: hidden;text-align: left;background-color: #f0f8ff;}#sk-container-id-6 div.sk-toggleable__content pre {margin: 0.2em;color: black;border-radius: 0.25em;background-color: #f0f8ff;}#sk-container-id-6 input.sk-toggleable__control:checked~div.sk-toggleable__content {max-height: 200px;max-width: 100%;overflow: auto;}#sk-container-id-6 input.sk-toggleable__control:checked~label.sk-toggleable__label-arrow:before {content: \"▾\";}#sk-container-id-6 div.sk-estimator input.sk-toggleable__control:checked~label.sk-toggleable__label {background-color: #d4ebff;}#sk-container-id-6 div.sk-label input.sk-toggleable__control:checked~label.sk-toggleable__label {background-color: #d4ebff;}#sk-container-id-6 input.sk-hidden--visually {border: 0;clip: rect(1px 1px 1px 1px);clip: rect(1px, 1px, 1px, 1px);height: 1px;margin: -1px;overflow: hidden;padding: 0;position: absolute;width: 1px;}#sk-container-id-6 div.sk-estimator {font-family: monospace;background-color: #f0f8ff;border: 1px dotted black;border-radius: 0.25em;box-sizing: border-box;margin-bottom: 0.5em;}#sk-container-id-6 div.sk-estimator:hover {background-color: #d4ebff;}#sk-container-id-6 div.sk-parallel-item::after {content: \"\";width: 100%;border-bottom: 1px solid gray;flex-grow: 1;}#sk-container-id-6 div.sk-label:hover label.sk-toggleable__label {background-color: #d4ebff;}#sk-container-id-6 div.sk-serial::before {content: \"\";position: absolute;border-left: 1px solid gray;box-sizing: border-box;top: 0;bottom: 0;left: 50%;z-index: 0;}#sk-container-id-6 div.sk-serial {display: flex;flex-direction: column;align-items: center;background-color: white;padding-right: 0.2em;padding-left: 0.2em;position: relative;}#sk-container-id-6 div.sk-item {position: relative;z-index: 1;}#sk-container-id-6 div.sk-parallel {display: flex;align-items: stretch;justify-content: center;background-color: white;position: relative;}#sk-container-id-6 div.sk-item::before, #sk-container-id-6 div.sk-parallel-item::before {content: \"\";position: absolute;border-left: 1px solid gray;box-sizing: border-box;top: 0;bottom: 0;left: 50%;z-index: -1;}#sk-container-id-6 div.sk-parallel-item {display: flex;flex-direction: column;z-index: 1;position: relative;background-color: white;}#sk-container-id-6 div.sk-parallel-item:first-child::after {align-self: flex-end;width: 50%;}#sk-container-id-6 div.sk-parallel-item:last-child::after {align-self: flex-start;width: 50%;}#sk-container-id-6 div.sk-parallel-item:only-child::after {width: 0;}#sk-container-id-6 div.sk-dashed-wrapped {border: 1px dashed gray;margin: 0 0.4em 0.5em 0.4em;box-sizing: border-box;padding-bottom: 0.4em;background-color: white;}#sk-container-id-6 div.sk-label label {font-family: monospace;font-weight: bold;display: inline-block;line-height: 1.2em;}#sk-container-id-6 div.sk-label-container {text-align: center;}#sk-container-id-6 div.sk-container {/* jupyter's `normalize.less` sets `[hidden] { display: none; }` but bootstrap.min.css set `[hidden] { display: none !important; }` so we also need the `!important` here to be able to override the default hidden behavior on the sphinx rendered scikit-learn.org. See: https://github.com/scikit-learn/scikit-learn/issues/21755 */display: inline-block !important;position: relative;}#sk-container-id-6 div.sk-text-repr-fallback {display: none;}</style><div id=\"sk-container-id-6\" class=\"sk-top-container\"><div class=\"sk-text-repr-fallback\"><pre>LinearRegression()</pre><b>In a Jupyter environment, please rerun this cell to show the HTML representation or trust the notebook. <br />On GitHub, the HTML representation is unable to render, please try loading this page with nbviewer.org.</b></div><div class=\"sk-container\" hidden><div class=\"sk-item\"><div class=\"sk-estimator sk-toggleable\"><input class=\"sk-toggleable__control sk-hidden--visually\" id=\"sk-estimator-id-6\" type=\"checkbox\" checked><label for=\"sk-estimator-id-6\" class=\"sk-toggleable__label sk-toggleable__label-arrow\">LinearRegression</label><div class=\"sk-toggleable__content\"><pre>LinearRegression()</pre></div></div></div></div></div>"
            ],
            "text/plain": [
              "LinearRegression()"
            ]
          },
          "execution_count": 56,
          "metadata": {},
          "output_type": "execute_result"
        }
      ],
      "source": [
        "# The model demonstrates meaningful predictive power at least 75%\n",
        "# classification accuracy or 0.80 R-squared. (5 points)\n",
        "\n",
        "model = LinearRegression()\n",
        "model.fit(X_train,y_train)"
      ]
    },
    {
      "cell_type": "code",
      "execution_count": null,
      "id": "2b5c13c6",
      "metadata": {
        "id": "2b5c13c6",
        "outputId": "21cd4829-4906-4147-adc3-aa9b3f8133d4"
      },
      "outputs": [
        {
          "data": {
            "text/plain": [
              "'The validation accuracy score of 52.91% does not meet standards.'"
            ]
          },
          "execution_count": 57,
          "metadata": {},
          "output_type": "execute_result"
        }
      ],
      "source": [
        "# Prediction score\n",
        "f'The validation accuracy score of {model.score(X_test,y_test)*100:.2f}% does not meet standards.'"
      ]
    },
    {
      "cell_type": "markdown",
      "id": "e44b4775",
      "metadata": {
        "id": "e44b4775"
      },
      "source": [
        "#### Data Model Optimization (25 points)"
      ]
    },
    {
      "cell_type": "code",
      "execution_count": null,
      "id": "a6434082",
      "metadata": {
        "id": "a6434082",
        "outputId": "bc18daab-90f5-4895-818d-e25819b13e83"
      },
      "outputs": [
        {
          "data": {
            "text/plain": [
              "['Sell', 'Buy', 'Sell', 'Buy', 'Sell']"
            ]
          },
          "execution_count": 58,
          "metadata": {},
          "output_type": "execute_result"
        }
      ],
      "source": [
        "new_y = [ 'Buy' if x>=0 else 'Sell' for x in df.Close - df.Open]\n",
        "new_y[:5]"
      ]
    },
    {
      "cell_type": "code",
      "execution_count": null,
      "id": "e061197b",
      "metadata": {
        "id": "e061197b",
        "outputId": "81eb0ef3-bb2a-43f3-e578-35b3da2d4aab"
      },
      "outputs": [
        {
          "data": {
            "text/plain": [
              "array([[327.05512517, 327.13451584, 318.12217613, 318.38021851],\n",
              "       [316.88149752, 322.92612291, 312.65322517, 317.1494751 ],\n",
              "       [318.92611112, 319.05514744, 313.79461529, 314.64822388],\n",
              "       [314.23135142, 315.30332221, 312.6532008 , 315.17428589],\n",
              "       [312.78225923, 313.52667166, 307.71031342, 309.81454468]])"
            ]
          },
          "execution_count": 59,
          "metadata": {},
          "output_type": "execute_result"
        }
      ],
      "source": [
        "X[:5]"
      ]
    },
    {
      "cell_type": "code",
      "execution_count": null,
      "id": "68de46b4",
      "metadata": {
        "id": "68de46b4"
      },
      "outputs": [],
      "source": [
        "new_y = [1 if x=='Sell' else 0 for x in new_y]"
      ]
    },
    {
      "cell_type": "code",
      "execution_count": null,
      "id": "4d050610",
      "metadata": {
        "id": "4d050610"
      },
      "outputs": [],
      "source": [
        "# Split data into training and validation\n",
        "X_train, X_test, y_train, y_test = train_test_split(X,new_y)"
      ]
    },
    {
      "cell_type": "code",
      "execution_count": null,
      "id": "91bad336",
      "metadata": {
        "id": "91bad336",
        "outputId": "b3a41ba4-7b54-4680-a1e1-0ec473e4209f"
      },
      "outputs": [
        {
          "data": {
            "text/html": [
              "<style>#sk-container-id-7 {color: black;background-color: white;}#sk-container-id-7 pre{padding: 0;}#sk-container-id-7 div.sk-toggleable {background-color: white;}#sk-container-id-7 label.sk-toggleable__label {cursor: pointer;display: block;width: 100%;margin-bottom: 0;padding: 0.3em;box-sizing: border-box;text-align: center;}#sk-container-id-7 label.sk-toggleable__label-arrow:before {content: \"▸\";float: left;margin-right: 0.25em;color: #696969;}#sk-container-id-7 label.sk-toggleable__label-arrow:hover:before {color: black;}#sk-container-id-7 div.sk-estimator:hover label.sk-toggleable__label-arrow:before {color: black;}#sk-container-id-7 div.sk-toggleable__content {max-height: 0;max-width: 0;overflow: hidden;text-align: left;background-color: #f0f8ff;}#sk-container-id-7 div.sk-toggleable__content pre {margin: 0.2em;color: black;border-radius: 0.25em;background-color: #f0f8ff;}#sk-container-id-7 input.sk-toggleable__control:checked~div.sk-toggleable__content {max-height: 200px;max-width: 100%;overflow: auto;}#sk-container-id-7 input.sk-toggleable__control:checked~label.sk-toggleable__label-arrow:before {content: \"▾\";}#sk-container-id-7 div.sk-estimator input.sk-toggleable__control:checked~label.sk-toggleable__label {background-color: #d4ebff;}#sk-container-id-7 div.sk-label input.sk-toggleable__control:checked~label.sk-toggleable__label {background-color: #d4ebff;}#sk-container-id-7 input.sk-hidden--visually {border: 0;clip: rect(1px 1px 1px 1px);clip: rect(1px, 1px, 1px, 1px);height: 1px;margin: -1px;overflow: hidden;padding: 0;position: absolute;width: 1px;}#sk-container-id-7 div.sk-estimator {font-family: monospace;background-color: #f0f8ff;border: 1px dotted black;border-radius: 0.25em;box-sizing: border-box;margin-bottom: 0.5em;}#sk-container-id-7 div.sk-estimator:hover {background-color: #d4ebff;}#sk-container-id-7 div.sk-parallel-item::after {content: \"\";width: 100%;border-bottom: 1px solid gray;flex-grow: 1;}#sk-container-id-7 div.sk-label:hover label.sk-toggleable__label {background-color: #d4ebff;}#sk-container-id-7 div.sk-serial::before {content: \"\";position: absolute;border-left: 1px solid gray;box-sizing: border-box;top: 0;bottom: 0;left: 50%;z-index: 0;}#sk-container-id-7 div.sk-serial {display: flex;flex-direction: column;align-items: center;background-color: white;padding-right: 0.2em;padding-left: 0.2em;position: relative;}#sk-container-id-7 div.sk-item {position: relative;z-index: 1;}#sk-container-id-7 div.sk-parallel {display: flex;align-items: stretch;justify-content: center;background-color: white;position: relative;}#sk-container-id-7 div.sk-item::before, #sk-container-id-7 div.sk-parallel-item::before {content: \"\";position: absolute;border-left: 1px solid gray;box-sizing: border-box;top: 0;bottom: 0;left: 50%;z-index: -1;}#sk-container-id-7 div.sk-parallel-item {display: flex;flex-direction: column;z-index: 1;position: relative;background-color: white;}#sk-container-id-7 div.sk-parallel-item:first-child::after {align-self: flex-end;width: 50%;}#sk-container-id-7 div.sk-parallel-item:last-child::after {align-self: flex-start;width: 50%;}#sk-container-id-7 div.sk-parallel-item:only-child::after {width: 0;}#sk-container-id-7 div.sk-dashed-wrapped {border: 1px dashed gray;margin: 0 0.4em 0.5em 0.4em;box-sizing: border-box;padding-bottom: 0.4em;background-color: white;}#sk-container-id-7 div.sk-label label {font-family: monospace;font-weight: bold;display: inline-block;line-height: 1.2em;}#sk-container-id-7 div.sk-label-container {text-align: center;}#sk-container-id-7 div.sk-container {/* jupyter's `normalize.less` sets `[hidden] { display: none; }` but bootstrap.min.css set `[hidden] { display: none !important; }` so we also need the `!important` here to be able to override the default hidden behavior on the sphinx rendered scikit-learn.org. See: https://github.com/scikit-learn/scikit-learn/issues/21755 */display: inline-block !important;position: relative;}#sk-container-id-7 div.sk-text-repr-fallback {display: none;}</style><div id=\"sk-container-id-7\" class=\"sk-top-container\"><div class=\"sk-text-repr-fallback\"><pre>LinearRegression()</pre><b>In a Jupyter environment, please rerun this cell to show the HTML representation or trust the notebook. <br />On GitHub, the HTML representation is unable to render, please try loading this page with nbviewer.org.</b></div><div class=\"sk-container\" hidden><div class=\"sk-item\"><div class=\"sk-estimator sk-toggleable\"><input class=\"sk-toggleable__control sk-hidden--visually\" id=\"sk-estimator-id-7\" type=\"checkbox\" checked><label for=\"sk-estimator-id-7\" class=\"sk-toggleable__label sk-toggleable__label-arrow\">LinearRegression</label><div class=\"sk-toggleable__content\"><pre>LinearRegression()</pre></div></div></div></div></div>"
            ],
            "text/plain": [
              "LinearRegression()"
            ]
          },
          "execution_count": 62,
          "metadata": {},
          "output_type": "execute_result"
        }
      ],
      "source": [
        "model2 = LinearRegression()\n",
        "model2.fit(X_train,y_train)"
      ]
    },
    {
      "cell_type": "code",
      "execution_count": null,
      "id": "6d26e0c4",
      "metadata": {
        "id": "6d26e0c4",
        "outputId": "502fd098-d782-4acc-945c-b560761d1663"
      },
      "outputs": [
        {
          "data": {
            "text/plain": [
              "0.6216450333678483"
            ]
          },
          "execution_count": 63,
          "metadata": {},
          "output_type": "execute_result"
        }
      ],
      "source": [
        "model2.score(X_train,y_train)"
      ]
    },
    {
      "cell_type": "markdown",
      "id": "b2659ab2",
      "metadata": {
        "id": "b2659ab2"
      },
      "source": [
        "### The linear model was not good enough.  I'm trying a Recurrent Neural Network"
      ]
    },
    {
      "cell_type": "code",
      "execution_count": 2,
      "id": "4f26ac05",
      "metadata": {
        "id": "4f26ac05"
      },
      "outputs": [],
      "source": [
        "from tensorflow.keras.models import Sequential\n",
        "from tensorflow.keras.layers import Input, Dense, SimpleRNN"
      ]
    },
    {
      "cell_type": "code",
      "source": [
        "df = pd.read_csv('msft_data.csv', index_col='Date')\n",
        "df = df[3:].copy()\n",
        "df[:5]"
      ],
      "metadata": {
        "colab": {
          "base_uri": "https://localhost:8080/",
          "height": 237
        },
        "id": "Rxz4sWAw-N-n",
        "outputId": "8c1363ac-0ab3-4356-896b-f154e1dea812"
      },
      "id": "Rxz4sWAw-N-n",
      "execution_count": 8,
      "outputs": [
        {
          "output_type": "execute_result",
          "data": {
            "text/plain": [
              "                      Open        High         Low       Close Recomendation\n",
              "Date                                                                        \n",
              "2023-09-25 Mon  314.231351  315.303322  312.653201  315.174286          Sell\n",
              "2023-09-26 Tue  312.782259  313.526672  307.710313  309.814545          Sell\n",
              "2023-09-27 Wed  309.973286  311.958385  307.382745  310.459656          Sell\n",
              "2023-09-28 Thu  308.673063  313.129633  307.144558  311.303345           Buy\n",
              "2023-09-29 Fri  315.382713  317.089900  312.633361  313.397614          Sell"
            ],
            "text/html": [
              "\n",
              "  <div id=\"df-3ebf698f-44f2-435a-b546-871d5faa104f\" class=\"colab-df-container\">\n",
              "    <div>\n",
              "<style scoped>\n",
              "    .dataframe tbody tr th:only-of-type {\n",
              "        vertical-align: middle;\n",
              "    }\n",
              "\n",
              "    .dataframe tbody tr th {\n",
              "        vertical-align: top;\n",
              "    }\n",
              "\n",
              "    .dataframe thead th {\n",
              "        text-align: right;\n",
              "    }\n",
              "</style>\n",
              "<table border=\"1\" class=\"dataframe\">\n",
              "  <thead>\n",
              "    <tr style=\"text-align: right;\">\n",
              "      <th></th>\n",
              "      <th>Open</th>\n",
              "      <th>High</th>\n",
              "      <th>Low</th>\n",
              "      <th>Close</th>\n",
              "      <th>Recomendation</th>\n",
              "    </tr>\n",
              "    <tr>\n",
              "      <th>Date</th>\n",
              "      <th></th>\n",
              "      <th></th>\n",
              "      <th></th>\n",
              "      <th></th>\n",
              "      <th></th>\n",
              "    </tr>\n",
              "  </thead>\n",
              "  <tbody>\n",
              "    <tr>\n",
              "      <th>2023-09-25 Mon</th>\n",
              "      <td>314.231351</td>\n",
              "      <td>315.303322</td>\n",
              "      <td>312.653201</td>\n",
              "      <td>315.174286</td>\n",
              "      <td>Sell</td>\n",
              "    </tr>\n",
              "    <tr>\n",
              "      <th>2023-09-26 Tue</th>\n",
              "      <td>312.782259</td>\n",
              "      <td>313.526672</td>\n",
              "      <td>307.710313</td>\n",
              "      <td>309.814545</td>\n",
              "      <td>Sell</td>\n",
              "    </tr>\n",
              "    <tr>\n",
              "      <th>2023-09-27 Wed</th>\n",
              "      <td>309.973286</td>\n",
              "      <td>311.958385</td>\n",
              "      <td>307.382745</td>\n",
              "      <td>310.459656</td>\n",
              "      <td>Sell</td>\n",
              "    </tr>\n",
              "    <tr>\n",
              "      <th>2023-09-28 Thu</th>\n",
              "      <td>308.673063</td>\n",
              "      <td>313.129633</td>\n",
              "      <td>307.144558</td>\n",
              "      <td>311.303345</td>\n",
              "      <td>Buy</td>\n",
              "    </tr>\n",
              "    <tr>\n",
              "      <th>2023-09-29 Fri</th>\n",
              "      <td>315.382713</td>\n",
              "      <td>317.089900</td>\n",
              "      <td>312.633361</td>\n",
              "      <td>313.397614</td>\n",
              "      <td>Sell</td>\n",
              "    </tr>\n",
              "  </tbody>\n",
              "</table>\n",
              "</div>\n",
              "    <div class=\"colab-df-buttons\">\n",
              "\n",
              "  <div class=\"colab-df-container\">\n",
              "    <button class=\"colab-df-convert\" onclick=\"convertToInteractive('df-3ebf698f-44f2-435a-b546-871d5faa104f')\"\n",
              "            title=\"Convert this dataframe to an interactive table.\"\n",
              "            style=\"display:none;\">\n",
              "\n",
              "  <svg xmlns=\"http://www.w3.org/2000/svg\" height=\"24px\" viewBox=\"0 -960 960 960\">\n",
              "    <path d=\"M120-120v-720h720v720H120Zm60-500h600v-160H180v160Zm220 220h160v-160H400v160Zm0 220h160v-160H400v160ZM180-400h160v-160H180v160Zm440 0h160v-160H620v160ZM180-180h160v-160H180v160Zm440 0h160v-160H620v160Z\"/>\n",
              "  </svg>\n",
              "    </button>\n",
              "\n",
              "  <style>\n",
              "    .colab-df-container {\n",
              "      display:flex;\n",
              "      gap: 12px;\n",
              "    }\n",
              "\n",
              "    .colab-df-convert {\n",
              "      background-color: #E8F0FE;\n",
              "      border: none;\n",
              "      border-radius: 50%;\n",
              "      cursor: pointer;\n",
              "      display: none;\n",
              "      fill: #1967D2;\n",
              "      height: 32px;\n",
              "      padding: 0 0 0 0;\n",
              "      width: 32px;\n",
              "    }\n",
              "\n",
              "    .colab-df-convert:hover {\n",
              "      background-color: #E2EBFA;\n",
              "      box-shadow: 0px 1px 2px rgba(60, 64, 67, 0.3), 0px 1px 3px 1px rgba(60, 64, 67, 0.15);\n",
              "      fill: #174EA6;\n",
              "    }\n",
              "\n",
              "    .colab-df-buttons div {\n",
              "      margin-bottom: 4px;\n",
              "    }\n",
              "\n",
              "    [theme=dark] .colab-df-convert {\n",
              "      background-color: #3B4455;\n",
              "      fill: #D2E3FC;\n",
              "    }\n",
              "\n",
              "    [theme=dark] .colab-df-convert:hover {\n",
              "      background-color: #434B5C;\n",
              "      box-shadow: 0px 1px 3px 1px rgba(0, 0, 0, 0.15);\n",
              "      filter: drop-shadow(0px 1px 2px rgba(0, 0, 0, 0.3));\n",
              "      fill: #FFFFFF;\n",
              "    }\n",
              "  </style>\n",
              "\n",
              "    <script>\n",
              "      const buttonEl =\n",
              "        document.querySelector('#df-3ebf698f-44f2-435a-b546-871d5faa104f button.colab-df-convert');\n",
              "      buttonEl.style.display =\n",
              "        google.colab.kernel.accessAllowed ? 'block' : 'none';\n",
              "\n",
              "      async function convertToInteractive(key) {\n",
              "        const element = document.querySelector('#df-3ebf698f-44f2-435a-b546-871d5faa104f');\n",
              "        const dataTable =\n",
              "          await google.colab.kernel.invokeFunction('convertToInteractive',\n",
              "                                                    [key], {});\n",
              "        if (!dataTable) return;\n",
              "\n",
              "        const docLinkHtml = 'Like what you see? Visit the ' +\n",
              "          '<a target=\"_blank\" href=https://colab.research.google.com/notebooks/data_table.ipynb>data table notebook</a>'\n",
              "          + ' to learn more about interactive tables.';\n",
              "        element.innerHTML = '';\n",
              "        dataTable['output_type'] = 'display_data';\n",
              "        await google.colab.output.renderOutput(dataTable, element);\n",
              "        const docLink = document.createElement('div');\n",
              "        docLink.innerHTML = docLinkHtml;\n",
              "        element.appendChild(docLink);\n",
              "      }\n",
              "    </script>\n",
              "  </div>\n",
              "\n",
              "\n",
              "<div id=\"df-68d64646-94c1-40e1-b07e-4a82d5acdd15\">\n",
              "  <button class=\"colab-df-quickchart\" onclick=\"quickchart('df-68d64646-94c1-40e1-b07e-4a82d5acdd15')\"\n",
              "            title=\"Suggest charts\"\n",
              "            style=\"display:none;\">\n",
              "\n",
              "<svg xmlns=\"http://www.w3.org/2000/svg\" height=\"24px\"viewBox=\"0 0 24 24\"\n",
              "     width=\"24px\">\n",
              "    <g>\n",
              "        <path d=\"M19 3H5c-1.1 0-2 .9-2 2v14c0 1.1.9 2 2 2h14c1.1 0 2-.9 2-2V5c0-1.1-.9-2-2-2zM9 17H7v-7h2v7zm4 0h-2V7h2v10zm4 0h-2v-4h2v4z\"/>\n",
              "    </g>\n",
              "</svg>\n",
              "  </button>\n",
              "\n",
              "<style>\n",
              "  .colab-df-quickchart {\n",
              "      --bg-color: #E8F0FE;\n",
              "      --fill-color: #1967D2;\n",
              "      --hover-bg-color: #E2EBFA;\n",
              "      --hover-fill-color: #174EA6;\n",
              "      --disabled-fill-color: #AAA;\n",
              "      --disabled-bg-color: #DDD;\n",
              "  }\n",
              "\n",
              "  [theme=dark] .colab-df-quickchart {\n",
              "      --bg-color: #3B4455;\n",
              "      --fill-color: #D2E3FC;\n",
              "      --hover-bg-color: #434B5C;\n",
              "      --hover-fill-color: #FFFFFF;\n",
              "      --disabled-bg-color: #3B4455;\n",
              "      --disabled-fill-color: #666;\n",
              "  }\n",
              "\n",
              "  .colab-df-quickchart {\n",
              "    background-color: var(--bg-color);\n",
              "    border: none;\n",
              "    border-radius: 50%;\n",
              "    cursor: pointer;\n",
              "    display: none;\n",
              "    fill: var(--fill-color);\n",
              "    height: 32px;\n",
              "    padding: 0;\n",
              "    width: 32px;\n",
              "  }\n",
              "\n",
              "  .colab-df-quickchart:hover {\n",
              "    background-color: var(--hover-bg-color);\n",
              "    box-shadow: 0 1px 2px rgba(60, 64, 67, 0.3), 0 1px 3px 1px rgba(60, 64, 67, 0.15);\n",
              "    fill: var(--button-hover-fill-color);\n",
              "  }\n",
              "\n",
              "  .colab-df-quickchart-complete:disabled,\n",
              "  .colab-df-quickchart-complete:disabled:hover {\n",
              "    background-color: var(--disabled-bg-color);\n",
              "    fill: var(--disabled-fill-color);\n",
              "    box-shadow: none;\n",
              "  }\n",
              "\n",
              "  .colab-df-spinner {\n",
              "    border: 2px solid var(--fill-color);\n",
              "    border-color: transparent;\n",
              "    border-bottom-color: var(--fill-color);\n",
              "    animation:\n",
              "      spin 1s steps(1) infinite;\n",
              "  }\n",
              "\n",
              "  @keyframes spin {\n",
              "    0% {\n",
              "      border-color: transparent;\n",
              "      border-bottom-color: var(--fill-color);\n",
              "      border-left-color: var(--fill-color);\n",
              "    }\n",
              "    20% {\n",
              "      border-color: transparent;\n",
              "      border-left-color: var(--fill-color);\n",
              "      border-top-color: var(--fill-color);\n",
              "    }\n",
              "    30% {\n",
              "      border-color: transparent;\n",
              "      border-left-color: var(--fill-color);\n",
              "      border-top-color: var(--fill-color);\n",
              "      border-right-color: var(--fill-color);\n",
              "    }\n",
              "    40% {\n",
              "      border-color: transparent;\n",
              "      border-right-color: var(--fill-color);\n",
              "      border-top-color: var(--fill-color);\n",
              "    }\n",
              "    60% {\n",
              "      border-color: transparent;\n",
              "      border-right-color: var(--fill-color);\n",
              "    }\n",
              "    80% {\n",
              "      border-color: transparent;\n",
              "      border-right-color: var(--fill-color);\n",
              "      border-bottom-color: var(--fill-color);\n",
              "    }\n",
              "    90% {\n",
              "      border-color: transparent;\n",
              "      border-bottom-color: var(--fill-color);\n",
              "    }\n",
              "  }\n",
              "</style>\n",
              "\n",
              "  <script>\n",
              "    async function quickchart(key) {\n",
              "      const quickchartButtonEl =\n",
              "        document.querySelector('#' + key + ' button');\n",
              "      quickchartButtonEl.disabled = true;  // To prevent multiple clicks.\n",
              "      quickchartButtonEl.classList.add('colab-df-spinner');\n",
              "      try {\n",
              "        const charts = await google.colab.kernel.invokeFunction(\n",
              "            'suggestCharts', [key], {});\n",
              "      } catch (error) {\n",
              "        console.error('Error during call to suggestCharts:', error);\n",
              "      }\n",
              "      quickchartButtonEl.classList.remove('colab-df-spinner');\n",
              "      quickchartButtonEl.classList.add('colab-df-quickchart-complete');\n",
              "    }\n",
              "    (() => {\n",
              "      let quickchartButtonEl =\n",
              "        document.querySelector('#df-68d64646-94c1-40e1-b07e-4a82d5acdd15 button');\n",
              "      quickchartButtonEl.style.display =\n",
              "        google.colab.kernel.accessAllowed ? 'block' : 'none';\n",
              "    })();\n",
              "  </script>\n",
              "</div>\n",
              "\n",
              "    </div>\n",
              "  </div>\n"
            ],
            "application/vnd.google.colaboratory.intrinsic+json": {
              "type": "dataframe",
              "summary": "{\n  \"name\": \"df[:5]\",\n  \"rows\": 5,\n  \"fields\": [\n    {\n      \"column\": \"Date\",\n      \"properties\": {\n        \"dtype\": \"object\",\n        \"num_unique_values\": 5,\n        \"samples\": [\n          \"2023-09-26 Tue\",\n          \"2023-09-29 Fri\",\n          \"2023-09-27 Wed\"\n        ],\n        \"semantic_type\": \"\",\n        \"description\": \"\"\n      }\n    },\n    {\n      \"column\": \"Open\",\n      \"properties\": {\n        \"dtype\": \"number\",\n        \"std\": 2.828084662476089,\n        \"min\": 308.6730634321639,\n        \"max\": 315.3827132151793,\n        \"num_unique_values\": 5,\n        \"samples\": [\n          312.7822592275562,\n          315.3827132151793,\n          309.97328576967465\n        ],\n        \"semantic_type\": \"\",\n        \"description\": \"\"\n      }\n    },\n    {\n      \"column\": \"High\",\n      \"properties\": {\n        \"dtype\": \"number\",\n        \"std\": 2.01200917163224,\n        \"min\": 311.9583853398684,\n        \"max\": 317.08990016000627,\n        \"num_unique_values\": 5,\n        \"samples\": [\n          313.52667166301404,\n          317.08990016000627,\n          311.9583853398684\n        ],\n        \"semantic_type\": \"\",\n        \"description\": \"\"\n      }\n    },\n    {\n      \"column\": \"Low\",\n      \"properties\": {\n        \"dtype\": \"number\",\n        \"std\": 2.872035853166179,\n        \"min\": 307.1445584955253,\n        \"max\": 312.65320080410174,\n        \"num_unique_values\": 5,\n        \"samples\": [\n          307.710313416389,\n          312.6333610493002,\n          307.38274536987524\n        ],\n        \"semantic_type\": \"\",\n        \"description\": \"\"\n      }\n    },\n    {\n      \"column\": \"Close\",\n      \"properties\": {\n        \"dtype\": \"number\",\n        \"std\": 2.216932094184829,\n        \"min\": 309.8145446777344,\n        \"max\": 315.1742858886719,\n        \"num_unique_values\": 5,\n        \"samples\": [\n          309.8145446777344,\n          313.3976135253906,\n          310.45965576171875\n        ],\n        \"semantic_type\": \"\",\n        \"description\": \"\"\n      }\n    },\n    {\n      \"column\": \"Recomendation\",\n      \"properties\": {\n        \"dtype\": \"category\",\n        \"num_unique_values\": 2,\n        \"samples\": [\n          \"Buy\",\n          \"Sell\"\n        ],\n        \"semantic_type\": \"\",\n        \"description\": \"\"\n      }\n    }\n  ]\n}"
            }
          },
          "metadata": {},
          "execution_count": 8
        }
      ]
    },
    {
      "cell_type": "code",
      "source": [
        "df.drop('Recomendation', axis=1, inplace=True)"
      ],
      "metadata": {
        "id": "klHu9evP-b2P"
      },
      "id": "klHu9evP-b2P",
      "execution_count": 9,
      "outputs": []
    },
    {
      "cell_type": "code",
      "source": [
        "import numpy as np"
      ],
      "metadata": {
        "id": "fBjHkFIF_Uth"
      },
      "id": "fBjHkFIF_Uth",
      "execution_count": 13,
      "outputs": []
    },
    {
      "cell_type": "code",
      "source": [
        "msft_data = np.array(df).reshape(-1,5,4)"
      ],
      "metadata": {
        "id": "TmVjKm1e_DDB"
      },
      "id": "TmVjKm1e_DDB",
      "execution_count": 17,
      "outputs": []
    },
    {
      "cell_type": "code",
      "source": [
        "df[:5]"
      ],
      "metadata": {
        "colab": {
          "base_uri": "https://localhost:8080/",
          "height": 237
        },
        "id": "5x28u6d__tKL",
        "outputId": "507c01dc-4f00-4fba-9c62-61663cc720fe"
      },
      "id": "5x28u6d__tKL",
      "execution_count": 19,
      "outputs": [
        {
          "output_type": "execute_result",
          "data": {
            "text/plain": [
              "                      Open        High         Low       Close\n",
              "Date                                                          \n",
              "2023-09-25 Mon  314.231351  315.303322  312.653201  315.174286\n",
              "2023-09-26 Tue  312.782259  313.526672  307.710313  309.814545\n",
              "2023-09-27 Wed  309.973286  311.958385  307.382745  310.459656\n",
              "2023-09-28 Thu  308.673063  313.129633  307.144558  311.303345\n",
              "2023-09-29 Fri  315.382713  317.089900  312.633361  313.397614"
            ],
            "text/html": [
              "\n",
              "  <div id=\"df-d6ad4155-f3f7-4346-897b-494d2a13dad6\" class=\"colab-df-container\">\n",
              "    <div>\n",
              "<style scoped>\n",
              "    .dataframe tbody tr th:only-of-type {\n",
              "        vertical-align: middle;\n",
              "    }\n",
              "\n",
              "    .dataframe tbody tr th {\n",
              "        vertical-align: top;\n",
              "    }\n",
              "\n",
              "    .dataframe thead th {\n",
              "        text-align: right;\n",
              "    }\n",
              "</style>\n",
              "<table border=\"1\" class=\"dataframe\">\n",
              "  <thead>\n",
              "    <tr style=\"text-align: right;\">\n",
              "      <th></th>\n",
              "      <th>Open</th>\n",
              "      <th>High</th>\n",
              "      <th>Low</th>\n",
              "      <th>Close</th>\n",
              "    </tr>\n",
              "    <tr>\n",
              "      <th>Date</th>\n",
              "      <th></th>\n",
              "      <th></th>\n",
              "      <th></th>\n",
              "      <th></th>\n",
              "    </tr>\n",
              "  </thead>\n",
              "  <tbody>\n",
              "    <tr>\n",
              "      <th>2023-09-25 Mon</th>\n",
              "      <td>314.231351</td>\n",
              "      <td>315.303322</td>\n",
              "      <td>312.653201</td>\n",
              "      <td>315.174286</td>\n",
              "    </tr>\n",
              "    <tr>\n",
              "      <th>2023-09-26 Tue</th>\n",
              "      <td>312.782259</td>\n",
              "      <td>313.526672</td>\n",
              "      <td>307.710313</td>\n",
              "      <td>309.814545</td>\n",
              "    </tr>\n",
              "    <tr>\n",
              "      <th>2023-09-27 Wed</th>\n",
              "      <td>309.973286</td>\n",
              "      <td>311.958385</td>\n",
              "      <td>307.382745</td>\n",
              "      <td>310.459656</td>\n",
              "    </tr>\n",
              "    <tr>\n",
              "      <th>2023-09-28 Thu</th>\n",
              "      <td>308.673063</td>\n",
              "      <td>313.129633</td>\n",
              "      <td>307.144558</td>\n",
              "      <td>311.303345</td>\n",
              "    </tr>\n",
              "    <tr>\n",
              "      <th>2023-09-29 Fri</th>\n",
              "      <td>315.382713</td>\n",
              "      <td>317.089900</td>\n",
              "      <td>312.633361</td>\n",
              "      <td>313.397614</td>\n",
              "    </tr>\n",
              "  </tbody>\n",
              "</table>\n",
              "</div>\n",
              "    <div class=\"colab-df-buttons\">\n",
              "\n",
              "  <div class=\"colab-df-container\">\n",
              "    <button class=\"colab-df-convert\" onclick=\"convertToInteractive('df-d6ad4155-f3f7-4346-897b-494d2a13dad6')\"\n",
              "            title=\"Convert this dataframe to an interactive table.\"\n",
              "            style=\"display:none;\">\n",
              "\n",
              "  <svg xmlns=\"http://www.w3.org/2000/svg\" height=\"24px\" viewBox=\"0 -960 960 960\">\n",
              "    <path d=\"M120-120v-720h720v720H120Zm60-500h600v-160H180v160Zm220 220h160v-160H400v160Zm0 220h160v-160H400v160ZM180-400h160v-160H180v160Zm440 0h160v-160H620v160ZM180-180h160v-160H180v160Zm440 0h160v-160H620v160Z\"/>\n",
              "  </svg>\n",
              "    </button>\n",
              "\n",
              "  <style>\n",
              "    .colab-df-container {\n",
              "      display:flex;\n",
              "      gap: 12px;\n",
              "    }\n",
              "\n",
              "    .colab-df-convert {\n",
              "      background-color: #E8F0FE;\n",
              "      border: none;\n",
              "      border-radius: 50%;\n",
              "      cursor: pointer;\n",
              "      display: none;\n",
              "      fill: #1967D2;\n",
              "      height: 32px;\n",
              "      padding: 0 0 0 0;\n",
              "      width: 32px;\n",
              "    }\n",
              "\n",
              "    .colab-df-convert:hover {\n",
              "      background-color: #E2EBFA;\n",
              "      box-shadow: 0px 1px 2px rgba(60, 64, 67, 0.3), 0px 1px 3px 1px rgba(60, 64, 67, 0.15);\n",
              "      fill: #174EA6;\n",
              "    }\n",
              "\n",
              "    .colab-df-buttons div {\n",
              "      margin-bottom: 4px;\n",
              "    }\n",
              "\n",
              "    [theme=dark] .colab-df-convert {\n",
              "      background-color: #3B4455;\n",
              "      fill: #D2E3FC;\n",
              "    }\n",
              "\n",
              "    [theme=dark] .colab-df-convert:hover {\n",
              "      background-color: #434B5C;\n",
              "      box-shadow: 0px 1px 3px 1px rgba(0, 0, 0, 0.15);\n",
              "      filter: drop-shadow(0px 1px 2px rgba(0, 0, 0, 0.3));\n",
              "      fill: #FFFFFF;\n",
              "    }\n",
              "  </style>\n",
              "\n",
              "    <script>\n",
              "      const buttonEl =\n",
              "        document.querySelector('#df-d6ad4155-f3f7-4346-897b-494d2a13dad6 button.colab-df-convert');\n",
              "      buttonEl.style.display =\n",
              "        google.colab.kernel.accessAllowed ? 'block' : 'none';\n",
              "\n",
              "      async function convertToInteractive(key) {\n",
              "        const element = document.querySelector('#df-d6ad4155-f3f7-4346-897b-494d2a13dad6');\n",
              "        const dataTable =\n",
              "          await google.colab.kernel.invokeFunction('convertToInteractive',\n",
              "                                                    [key], {});\n",
              "        if (!dataTable) return;\n",
              "\n",
              "        const docLinkHtml = 'Like what you see? Visit the ' +\n",
              "          '<a target=\"_blank\" href=https://colab.research.google.com/notebooks/data_table.ipynb>data table notebook</a>'\n",
              "          + ' to learn more about interactive tables.';\n",
              "        element.innerHTML = '';\n",
              "        dataTable['output_type'] = 'display_data';\n",
              "        await google.colab.output.renderOutput(dataTable, element);\n",
              "        const docLink = document.createElement('div');\n",
              "        docLink.innerHTML = docLinkHtml;\n",
              "        element.appendChild(docLink);\n",
              "      }\n",
              "    </script>\n",
              "  </div>\n",
              "\n",
              "\n",
              "<div id=\"df-fa7d22fc-2c74-4721-a847-d752d1ba6508\">\n",
              "  <button class=\"colab-df-quickchart\" onclick=\"quickchart('df-fa7d22fc-2c74-4721-a847-d752d1ba6508')\"\n",
              "            title=\"Suggest charts\"\n",
              "            style=\"display:none;\">\n",
              "\n",
              "<svg xmlns=\"http://www.w3.org/2000/svg\" height=\"24px\"viewBox=\"0 0 24 24\"\n",
              "     width=\"24px\">\n",
              "    <g>\n",
              "        <path d=\"M19 3H5c-1.1 0-2 .9-2 2v14c0 1.1.9 2 2 2h14c1.1 0 2-.9 2-2V5c0-1.1-.9-2-2-2zM9 17H7v-7h2v7zm4 0h-2V7h2v10zm4 0h-2v-4h2v4z\"/>\n",
              "    </g>\n",
              "</svg>\n",
              "  </button>\n",
              "\n",
              "<style>\n",
              "  .colab-df-quickchart {\n",
              "      --bg-color: #E8F0FE;\n",
              "      --fill-color: #1967D2;\n",
              "      --hover-bg-color: #E2EBFA;\n",
              "      --hover-fill-color: #174EA6;\n",
              "      --disabled-fill-color: #AAA;\n",
              "      --disabled-bg-color: #DDD;\n",
              "  }\n",
              "\n",
              "  [theme=dark] .colab-df-quickchart {\n",
              "      --bg-color: #3B4455;\n",
              "      --fill-color: #D2E3FC;\n",
              "      --hover-bg-color: #434B5C;\n",
              "      --hover-fill-color: #FFFFFF;\n",
              "      --disabled-bg-color: #3B4455;\n",
              "      --disabled-fill-color: #666;\n",
              "  }\n",
              "\n",
              "  .colab-df-quickchart {\n",
              "    background-color: var(--bg-color);\n",
              "    border: none;\n",
              "    border-radius: 50%;\n",
              "    cursor: pointer;\n",
              "    display: none;\n",
              "    fill: var(--fill-color);\n",
              "    height: 32px;\n",
              "    padding: 0;\n",
              "    width: 32px;\n",
              "  }\n",
              "\n",
              "  .colab-df-quickchart:hover {\n",
              "    background-color: var(--hover-bg-color);\n",
              "    box-shadow: 0 1px 2px rgba(60, 64, 67, 0.3), 0 1px 3px 1px rgba(60, 64, 67, 0.15);\n",
              "    fill: var(--button-hover-fill-color);\n",
              "  }\n",
              "\n",
              "  .colab-df-quickchart-complete:disabled,\n",
              "  .colab-df-quickchart-complete:disabled:hover {\n",
              "    background-color: var(--disabled-bg-color);\n",
              "    fill: var(--disabled-fill-color);\n",
              "    box-shadow: none;\n",
              "  }\n",
              "\n",
              "  .colab-df-spinner {\n",
              "    border: 2px solid var(--fill-color);\n",
              "    border-color: transparent;\n",
              "    border-bottom-color: var(--fill-color);\n",
              "    animation:\n",
              "      spin 1s steps(1) infinite;\n",
              "  }\n",
              "\n",
              "  @keyframes spin {\n",
              "    0% {\n",
              "      border-color: transparent;\n",
              "      border-bottom-color: var(--fill-color);\n",
              "      border-left-color: var(--fill-color);\n",
              "    }\n",
              "    20% {\n",
              "      border-color: transparent;\n",
              "      border-left-color: var(--fill-color);\n",
              "      border-top-color: var(--fill-color);\n",
              "    }\n",
              "    30% {\n",
              "      border-color: transparent;\n",
              "      border-left-color: var(--fill-color);\n",
              "      border-top-color: var(--fill-color);\n",
              "      border-right-color: var(--fill-color);\n",
              "    }\n",
              "    40% {\n",
              "      border-color: transparent;\n",
              "      border-right-color: var(--fill-color);\n",
              "      border-top-color: var(--fill-color);\n",
              "    }\n",
              "    60% {\n",
              "      border-color: transparent;\n",
              "      border-right-color: var(--fill-color);\n",
              "    }\n",
              "    80% {\n",
              "      border-color: transparent;\n",
              "      border-right-color: var(--fill-color);\n",
              "      border-bottom-color: var(--fill-color);\n",
              "    }\n",
              "    90% {\n",
              "      border-color: transparent;\n",
              "      border-bottom-color: var(--fill-color);\n",
              "    }\n",
              "  }\n",
              "</style>\n",
              "\n",
              "  <script>\n",
              "    async function quickchart(key) {\n",
              "      const quickchartButtonEl =\n",
              "        document.querySelector('#' + key + ' button');\n",
              "      quickchartButtonEl.disabled = true;  // To prevent multiple clicks.\n",
              "      quickchartButtonEl.classList.add('colab-df-spinner');\n",
              "      try {\n",
              "        const charts = await google.colab.kernel.invokeFunction(\n",
              "            'suggestCharts', [key], {});\n",
              "      } catch (error) {\n",
              "        console.error('Error during call to suggestCharts:', error);\n",
              "      }\n",
              "      quickchartButtonEl.classList.remove('colab-df-spinner');\n",
              "      quickchartButtonEl.classList.add('colab-df-quickchart-complete');\n",
              "    }\n",
              "    (() => {\n",
              "      let quickchartButtonEl =\n",
              "        document.querySelector('#df-fa7d22fc-2c74-4721-a847-d752d1ba6508 button');\n",
              "      quickchartButtonEl.style.display =\n",
              "        google.colab.kernel.accessAllowed ? 'block' : 'none';\n",
              "    })();\n",
              "  </script>\n",
              "</div>\n",
              "\n",
              "    </div>\n",
              "  </div>\n"
            ],
            "application/vnd.google.colaboratory.intrinsic+json": {
              "type": "dataframe",
              "summary": "{\n  \"name\": \"df[:5]\",\n  \"rows\": 5,\n  \"fields\": [\n    {\n      \"column\": \"Date\",\n      \"properties\": {\n        \"dtype\": \"object\",\n        \"num_unique_values\": 5,\n        \"samples\": [\n          \"2023-09-26 Tue\",\n          \"2023-09-29 Fri\",\n          \"2023-09-27 Wed\"\n        ],\n        \"semantic_type\": \"\",\n        \"description\": \"\"\n      }\n    },\n    {\n      \"column\": \"Open\",\n      \"properties\": {\n        \"dtype\": \"number\",\n        \"std\": 2.828084662476089,\n        \"min\": 308.6730634321639,\n        \"max\": 315.3827132151793,\n        \"num_unique_values\": 5,\n        \"samples\": [\n          312.7822592275562,\n          315.3827132151793,\n          309.97328576967465\n        ],\n        \"semantic_type\": \"\",\n        \"description\": \"\"\n      }\n    },\n    {\n      \"column\": \"High\",\n      \"properties\": {\n        \"dtype\": \"number\",\n        \"std\": 2.01200917163224,\n        \"min\": 311.9583853398684,\n        \"max\": 317.08990016000627,\n        \"num_unique_values\": 5,\n        \"samples\": [\n          313.52667166301404,\n          317.08990016000627,\n          311.9583853398684\n        ],\n        \"semantic_type\": \"\",\n        \"description\": \"\"\n      }\n    },\n    {\n      \"column\": \"Low\",\n      \"properties\": {\n        \"dtype\": \"number\",\n        \"std\": 2.872035853166179,\n        \"min\": 307.1445584955253,\n        \"max\": 312.65320080410174,\n        \"num_unique_values\": 5,\n        \"samples\": [\n          307.710313416389,\n          312.6333610493002,\n          307.38274536987524\n        ],\n        \"semantic_type\": \"\",\n        \"description\": \"\"\n      }\n    },\n    {\n      \"column\": \"Close\",\n      \"properties\": {\n        \"dtype\": \"number\",\n        \"std\": 2.216932094184829,\n        \"min\": 309.8145446777344,\n        \"max\": 315.1742858886719,\n        \"num_unique_values\": 5,\n        \"samples\": [\n          309.8145446777344,\n          313.3976135253906,\n          310.45965576171875\n        ],\n        \"semantic_type\": \"\",\n        \"description\": \"\"\n      }\n    }\n  ]\n}"
            }
          },
          "metadata": {},
          "execution_count": 19
        }
      ]
    },
    {
      "cell_type": "code",
      "source": [
        "msft_data[0]"
      ],
      "metadata": {
        "colab": {
          "base_uri": "https://localhost:8080/"
        },
        "id": "vWff5pmmAGYG",
        "outputId": "7f89c6dc-650a-42aa-a425-9f8bca8c061d"
      },
      "id": "vWff5pmmAGYG",
      "execution_count": 21,
      "outputs": [
        {
          "output_type": "execute_result",
          "data": {
            "text/plain": [
              "array([[314.23135142, 315.30332221, 312.6532008 , 315.17428589],\n",
              "       [312.78225923, 313.52667166, 307.71031342, 309.81454468],\n",
              "       [309.97328577, 311.95838534, 307.38274537, 310.45965576],\n",
              "       [308.67306343, 313.12963279, 307.1445585 , 311.30334473],\n",
              "       [315.38271322, 317.08990016, 312.63336105, 313.39761353]])"
            ]
          },
          "metadata": {},
          "execution_count": 21
        }
      ]
    },
    {
      "cell_type": "code",
      "source": [
        "df"
      ],
      "metadata": {
        "id": "NSBbHxjCB02_"
      },
      "id": "NSBbHxjCB02_",
      "execution_count": null,
      "outputs": []
    },
    {
      "cell_type": "code",
      "source": [
        "new_labels = []\n",
        "\n",
        "for x in msft_data:\n",
        "  open_mon = x[0][0]\n",
        "  close_fri = x[-1][-1]\n",
        "\n",
        "  if close_fri < open_mon:\n",
        "    new_labels.append('Sell')\n",
        "  else:\n",
        "    new_labels.append('Buy')"
      ],
      "metadata": {
        "id": "P_zQZEkzBQTa"
      },
      "id": "P_zQZEkzBQTa",
      "execution_count": 28,
      "outputs": []
    },
    {
      "cell_type": "code",
      "source": [
        "y = [ 1 if x == 'Sell' else 0 for x in new_labels]"
      ],
      "metadata": {
        "id": "g1iIvA1BA3R4"
      },
      "id": "g1iIvA1BA3R4",
      "execution_count": 33,
      "outputs": []
    },
    {
      "cell_type": "code",
      "source": [
        "msft_data.shape"
      ],
      "metadata": {
        "colab": {
          "base_uri": "https://localhost:8080/"
        },
        "id": "2B2cTIWvDY9U",
        "outputId": "5dfd3d65-1d93-4c4b-86e0-545843928dc5"
      },
      "id": "2B2cTIWvDY9U",
      "execution_count": 34,
      "outputs": [
        {
          "output_type": "execute_result",
          "data": {
            "text/plain": [
              "(49, 5, 4)"
            ]
          },
          "metadata": {},
          "execution_count": 34
        }
      ]
    },
    {
      "cell_type": "code",
      "source": [],
      "metadata": {
        "colab": {
          "base_uri": "https://localhost:8080/"
        },
        "id": "fvyfLBQ5D1mi",
        "outputId": "a1df2167-20d4-4374-9222-4c3c64a8fa37"
      },
      "id": "fvyfLBQ5D1mi",
      "execution_count": 36,
      "outputs": [
        {
          "output_type": "execute_result",
          "data": {
            "text/plain": [
              "(5, 4)"
            ]
          },
          "metadata": {},
          "execution_count": 36
        }
      ]
    },
    {
      "cell_type": "code",
      "source": [
        "nn = Sequential()\n",
        "nn.add(Input(shape=(msft_data.shape[1],msft_data.shape[2])))\n"
      ],
      "metadata": {
        "id": "y5VaYJURAUBp"
      },
      "id": "y5VaYJURAUBp",
      "execution_count": null,
      "outputs": []
    },
    {
      "cell_type": "code",
      "source": [
        "?Input"
      ],
      "metadata": {
        "id": "T96oRNdYDgtz"
      },
      "id": "T96oRNdYDgtz",
      "execution_count": 35,
      "outputs": []
    }
  ],
  "metadata": {
    "kernelspec": {
      "display_name": "Python 3 (ipykernel)",
      "language": "python",
      "name": "python3"
    },
    "language_info": {
      "codemirror_mode": {
        "name": "ipython",
        "version": 3
      },
      "file_extension": ".py",
      "mimetype": "text/x-python",
      "name": "python",
      "nbconvert_exporter": "python",
      "pygments_lexer": "ipython3",
      "version": "3.11.7"
    },
    "colab": {
      "provenance": [],
      "toc_visible": true
    }
  },
  "nbformat": 4,
  "nbformat_minor": 5
}