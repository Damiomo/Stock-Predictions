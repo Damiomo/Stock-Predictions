{
  "cells": [
    {
      "cell_type": "code",
      "execution_count": 2,
      "id": "1cfa74a6-6bef-4fc4-b88a-3d5d2fbbb90d",
      "metadata": {
        "id": "1cfa74a6-6bef-4fc4-b88a-3d5d2fbbb90d"
      },
      "outputs": [],
      "source": [
        "import sqlite3\n",
        "import pandas as pd\n",
        "import yfinance as yf"
      ]
    },
    {
      "cell_type": "markdown",
      "id": "d2fbfb6b-e2ad-4871-8b5a-f27a0bbea677",
      "metadata": {
        "id": "d2fbfb6b-e2ad-4871-8b5a-f27a0bbea677"
      },
      "source": [
        "#### Data Model Implementation (25 points)"
      ]
    },
    {
      "cell_type": "code",
      "execution_count": null,
      "id": "fd92180a-d57e-495e-9b25-cddb28909dba",
      "metadata": {
        "id": "fd92180a-d57e-495e-9b25-cddb28909dba",
        "outputId": "5e6f2a1b-7c0d-4545-ad2e-3de5933876d8"
      },
      "outputs": [
        {
          "data": {
            "text/html": [
              "<div>\n",
              "<style scoped>\n",
              "    .dataframe tbody tr th:only-of-type {\n",
              "        vertical-align: middle;\n",
              "    }\n",
              "\n",
              "    .dataframe tbody tr th {\n",
              "        vertical-align: top;\n",
              "    }\n",
              "\n",
              "    .dataframe thead th {\n",
              "        text-align: right;\n",
              "    }\n",
              "</style>\n",
              "<table border=\"1\" class=\"dataframe\">\n",
              "  <thead>\n",
              "    <tr style=\"text-align: right;\">\n",
              "      <th></th>\n",
              "      <th>Open</th>\n",
              "      <th>High</th>\n",
              "      <th>Low</th>\n",
              "      <th>Close</th>\n",
              "      <th>Volume</th>\n",
              "      <th>Dividends</th>\n",
              "      <th>Stock Splits</th>\n",
              "    </tr>\n",
              "    <tr>\n",
              "      <th>Date</th>\n",
              "      <th></th>\n",
              "      <th></th>\n",
              "      <th></th>\n",
              "      <th></th>\n",
              "      <th></th>\n",
              "      <th></th>\n",
              "      <th></th>\n",
              "    </tr>\n",
              "  </thead>\n",
              "  <tbody>\n",
              "    <tr>\n",
              "      <th>2023-09-18 00:00:00-04:00</th>\n",
              "      <td>325.357807</td>\n",
              "      <td>327.938442</td>\n",
              "      <td>323.928532</td>\n",
              "      <td>326.608429</td>\n",
              "      <td>16834200</td>\n",
              "      <td>0.0</td>\n",
              "      <td>0.0</td>\n",
              "    </tr>\n",
              "    <tr>\n",
              "      <th>2023-09-19 00:00:00-04:00</th>\n",
              "      <td>323.739973</td>\n",
              "      <td>326.935984</td>\n",
              "      <td>322.092337</td>\n",
              "      <td>326.201477</td>\n",
              "      <td>16505900</td>\n",
              "      <td>0.0</td>\n",
              "      <td>0.0</td>\n",
              "    </tr>\n",
              "    <tr>\n",
              "      <th>2023-09-20 00:00:00-04:00</th>\n",
              "      <td>327.055125</td>\n",
              "      <td>327.134516</td>\n",
              "      <td>318.122176</td>\n",
              "      <td>318.380219</td>\n",
              "      <td>21436500</td>\n",
              "      <td>0.0</td>\n",
              "      <td>0.0</td>\n",
              "    </tr>\n",
              "    <tr>\n",
              "      <th>2023-09-21 00:00:00-04:00</th>\n",
              "      <td>316.881498</td>\n",
              "      <td>322.926123</td>\n",
              "      <td>312.653225</td>\n",
              "      <td>317.149475</td>\n",
              "      <td>35529500</td>\n",
              "      <td>0.0</td>\n",
              "      <td>0.0</td>\n",
              "    </tr>\n",
              "    <tr>\n",
              "      <th>2023-09-22 00:00:00-04:00</th>\n",
              "      <td>318.926111</td>\n",
              "      <td>319.055147</td>\n",
              "      <td>313.794615</td>\n",
              "      <td>314.648224</td>\n",
              "      <td>21447900</td>\n",
              "      <td>0.0</td>\n",
              "      <td>0.0</td>\n",
              "    </tr>\n",
              "  </tbody>\n",
              "</table>\n",
              "</div>"
            ],
            "text/plain": [
              "                                 Open        High         Low       Close  \\\n",
              "Date                                                                        \n",
              "2023-09-18 00:00:00-04:00  325.357807  327.938442  323.928532  326.608429   \n",
              "2023-09-19 00:00:00-04:00  323.739973  326.935984  322.092337  326.201477   \n",
              "2023-09-20 00:00:00-04:00  327.055125  327.134516  318.122176  318.380219   \n",
              "2023-09-21 00:00:00-04:00  316.881498  322.926123  312.653225  317.149475   \n",
              "2023-09-22 00:00:00-04:00  318.926111  319.055147  313.794615  314.648224   \n",
              "\n",
              "                             Volume  Dividends  Stock Splits  \n",
              "Date                                                          \n",
              "2023-09-18 00:00:00-04:00  16834200        0.0           0.0  \n",
              "2023-09-19 00:00:00-04:00  16505900        0.0           0.0  \n",
              "2023-09-20 00:00:00-04:00  21436500        0.0           0.0  \n",
              "2023-09-21 00:00:00-04:00  35529500        0.0           0.0  \n",
              "2023-09-22 00:00:00-04:00  21447900        0.0           0.0  "
            ]
          },
          "execution_count": 44,
          "metadata": {},
          "output_type": "execute_result"
        }
      ],
      "source": [
        "# The data is cleaned, normalized, and standardized prior to modeling (5 points)\n",
        "msft = yf.Ticker('MSFT')\n",
        "hist = msft.history('1y')\n",
        "hist[:5]"
      ]
    },
    {
      "cell_type": "code",
      "execution_count": null,
      "id": "f7d67b99-c4b3-4422-90f7-c0264f199be4",
      "metadata": {
        "id": "f7d67b99-c4b3-4422-90f7-c0264f199be4"
      },
      "outputs": [],
      "source": [
        "# dropped Volume, Dividends, and Stock Splits\n",
        "df = hist.drop(['Volume','Dividends','Stock Splits'],axis=1)\n",
        "\n",
        "# changing date format\n",
        "df.index = df.index.strftime('%Y-%m-%d %a')\n",
        "\n",
        "# Dropping the first two rows to start on a Monday\n",
        "df = df[2:]"
      ]
    },
    {
      "cell_type": "code",
      "execution_count": null,
      "id": "7f09d802-4a37-4d3f-94a2-193c07815767",
      "metadata": {
        "id": "7f09d802-4a37-4d3f-94a2-193c07815767"
      },
      "outputs": [],
      "source": [
        "# create and connect to sqlite database stock_db\n",
        "db = sqlite3.connect('stock_db.sqlite')"
      ]
    },
    {
      "cell_type": "code",
      "execution_count": null,
      "id": "6963368b",
      "metadata": {
        "id": "6963368b",
        "outputId": "ea1d0afc-9e45-40ac-d36a-eaff8f969163"
      },
      "outputs": [
        {
          "data": {
            "text/plain": [
              "249"
            ]
          },
          "execution_count": 47,
          "metadata": {},
          "output_type": "execute_result"
        }
      ],
      "source": [
        "# Create or replace tesla table and load df data to it.\n",
        "df.to_sql('msft',db, if_exists='replace')"
      ]
    }
  ],
  "metadata": {
    "colab": {
      "provenance": []
    },
    "kernelspec": {
      "display_name": "Python 3 (ipykernel)",
      "language": "python",
      "name": "python3"
    },
    "language_info": {
      "codemirror_mode": {
        "name": "ipython",
        "version": 3
      },
      "file_extension": ".py",
      "mimetype": "text/x-python",
      "name": "python",
      "nbconvert_exporter": "python",
      "pygments_lexer": "ipython3",
      "version": "3.11.7"
    }
  },
  "nbformat": 4,
  "nbformat_minor": 5
}
