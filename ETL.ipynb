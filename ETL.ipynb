{
 "cells": [
  {
   "cell_type": "code",
   "execution_count": 1,
   "id": "1cfa74a6-6bef-4fc4-b88a-3d5d2fbbb90d",
   "metadata": {},
   "outputs": [],
   "source": [
    "import sqlite3\n",
    "import pandas as pd\n",
    "import yfinance as yf\n",
    "from sklearn.linear_model import LinearRegression\n",
    "from sklearn.model_selection import GridSearchCV, train_test_split"
   ]
  },
  {
   "cell_type": "markdown",
   "id": "d2fbfb6b-e2ad-4871-8b5a-f27a0bbea677",
   "metadata": {},
   "source": [
    "#### Data Model Implementation (25 points)"
   ]
  },
  {
   "cell_type": "code",
   "execution_count": 24,
   "id": "fd92180a-d57e-495e-9b25-cddb28909dba",
   "metadata": {},
   "outputs": [
    {
     "data": {
      "text/html": [
       "<div>\n",
       "<style scoped>\n",
       "    .dataframe tbody tr th:only-of-type {\n",
       "        vertical-align: middle;\n",
       "    }\n",
       "\n",
       "    .dataframe tbody tr th {\n",
       "        vertical-align: top;\n",
       "    }\n",
       "\n",
       "    .dataframe thead th {\n",
       "        text-align: right;\n",
       "    }\n",
       "</style>\n",
       "<table border=\"1\" class=\"dataframe\">\n",
       "  <thead>\n",
       "    <tr style=\"text-align: right;\">\n",
       "      <th></th>\n",
       "      <th>Open</th>\n",
       "      <th>High</th>\n",
       "      <th>Low</th>\n",
       "      <th>Close</th>\n",
       "      <th>Volume</th>\n",
       "      <th>Dividends</th>\n",
       "      <th>Stock Splits</th>\n",
       "    </tr>\n",
       "    <tr>\n",
       "      <th>Date</th>\n",
       "      <th></th>\n",
       "      <th></th>\n",
       "      <th></th>\n",
       "      <th></th>\n",
       "      <th></th>\n",
       "      <th></th>\n",
       "      <th></th>\n",
       "    </tr>\n",
       "  </thead>\n",
       "  <tbody>\n",
       "    <tr>\n",
       "      <th>2023-09-14 00:00:00-04:00</th>\n",
       "      <td>271.320007</td>\n",
       "      <td>276.709991</td>\n",
       "      <td>270.420013</td>\n",
       "      <td>276.040009</td>\n",
       "      <td>107709800</td>\n",
       "      <td>0.0</td>\n",
       "      <td>0.0</td>\n",
       "    </tr>\n",
       "    <tr>\n",
       "      <th>2023-09-15 00:00:00-04:00</th>\n",
       "      <td>277.549988</td>\n",
       "      <td>278.980011</td>\n",
       "      <td>271.000000</td>\n",
       "      <td>274.390015</td>\n",
       "      <td>133422800</td>\n",
       "      <td>0.0</td>\n",
       "      <td>0.0</td>\n",
       "    </tr>\n",
       "    <tr>\n",
       "      <th>2023-09-18 00:00:00-04:00</th>\n",
       "      <td>271.160004</td>\n",
       "      <td>271.440002</td>\n",
       "      <td>263.760010</td>\n",
       "      <td>265.279999</td>\n",
       "      <td>101543300</td>\n",
       "      <td>0.0</td>\n",
       "      <td>0.0</td>\n",
       "    </tr>\n",
       "    <tr>\n",
       "      <th>2023-09-19 00:00:00-04:00</th>\n",
       "      <td>264.350006</td>\n",
       "      <td>267.850006</td>\n",
       "      <td>261.200012</td>\n",
       "      <td>266.500000</td>\n",
       "      <td>103704000</td>\n",
       "      <td>0.0</td>\n",
       "      <td>0.0</td>\n",
       "    </tr>\n",
       "    <tr>\n",
       "      <th>2023-09-20 00:00:00-04:00</th>\n",
       "      <td>267.040009</td>\n",
       "      <td>273.929993</td>\n",
       "      <td>262.459991</td>\n",
       "      <td>262.589996</td>\n",
       "      <td>122514600</td>\n",
       "      <td>0.0</td>\n",
       "      <td>0.0</td>\n",
       "    </tr>\n",
       "  </tbody>\n",
       "</table>\n",
       "</div>"
      ],
      "text/plain": [
       "                                 Open        High         Low       Close  \\\n",
       "Date                                                                        \n",
       "2023-09-14 00:00:00-04:00  271.320007  276.709991  270.420013  276.040009   \n",
       "2023-09-15 00:00:00-04:00  277.549988  278.980011  271.000000  274.390015   \n",
       "2023-09-18 00:00:00-04:00  271.160004  271.440002  263.760010  265.279999   \n",
       "2023-09-19 00:00:00-04:00  264.350006  267.850006  261.200012  266.500000   \n",
       "2023-09-20 00:00:00-04:00  267.040009  273.929993  262.459991  262.589996   \n",
       "\n",
       "                              Volume  Dividends  Stock Splits  \n",
       "Date                                                           \n",
       "2023-09-14 00:00:00-04:00  107709800        0.0           0.0  \n",
       "2023-09-15 00:00:00-04:00  133422800        0.0           0.0  \n",
       "2023-09-18 00:00:00-04:00  101543300        0.0           0.0  \n",
       "2023-09-19 00:00:00-04:00  103704000        0.0           0.0  \n",
       "2023-09-20 00:00:00-04:00  122514600        0.0           0.0  "
      ]
     },
     "execution_count": 24,
     "metadata": {},
     "output_type": "execute_result"
    }
   ],
   "source": [
    "# The data is cleaned, normalized, and standardized prior to modeling (5 points)\n",
    "tesla = yf.Ticker('TSLA')\n",
    "hist = tesla.history('1y')\n",
    "hist[:5]"
   ]
  },
  {
   "cell_type": "code",
   "execution_count": 121,
   "id": "f7d67b99-c4b3-4422-90f7-c0264f199be4",
   "metadata": {},
   "outputs": [],
   "source": [
    "# dropped Volume, Dividends, and Stock Splits\n",
    "df = hist.drop(['Volume','Dividends','Stock Splits'],axis=1)\n",
    "\n",
    "# changing date format\n",
    "df.index = df.index.strftime('%Y-%m-%d %a')\n",
    "\n",
    "# Dropping the first two rows to start on a Monday\n",
    "df = df[2:]"
   ]
  },
  {
   "cell_type": "code",
   "execution_count": 3,
   "id": "7f09d802-4a37-4d3f-94a2-193c07815767",
   "metadata": {},
   "outputs": [],
   "source": [
    "# create and connect to sqlite database stock_db\n",
    "db = sqlite3.connect('stock_db.sqlite')"
   ]
  },
  {
   "cell_type": "code",
   "execution_count": null,
   "id": "6963368b",
   "metadata": {},
   "outputs": [],
   "source": [
    "# Create or replace tesla table and load df data to it.\n",
    "df.to_sql('tesla',db, if_exists='replace')"
   ]
  },
  {
   "cell_type": "code",
   "execution_count": 4,
   "id": "a318b713-61fc-4bde-960c-6137fa048021",
   "metadata": {},
   "outputs": [
    {
     "data": {
      "text/html": [
       "<div>\n",
       "<style scoped>\n",
       "    .dataframe tbody tr th:only-of-type {\n",
       "        vertical-align: middle;\n",
       "    }\n",
       "\n",
       "    .dataframe tbody tr th {\n",
       "        vertical-align: top;\n",
       "    }\n",
       "\n",
       "    .dataframe thead th {\n",
       "        text-align: right;\n",
       "    }\n",
       "</style>\n",
       "<table border=\"1\" class=\"dataframe\">\n",
       "  <thead>\n",
       "    <tr style=\"text-align: right;\">\n",
       "      <th></th>\n",
       "      <th>Open</th>\n",
       "      <th>High</th>\n",
       "      <th>Low</th>\n",
       "      <th>Close</th>\n",
       "    </tr>\n",
       "    <tr>\n",
       "      <th>Date</th>\n",
       "      <th></th>\n",
       "      <th></th>\n",
       "      <th></th>\n",
       "      <th></th>\n",
       "    </tr>\n",
       "  </thead>\n",
       "  <tbody>\n",
       "    <tr>\n",
       "      <th>2023-09-18 Mon</th>\n",
       "      <td>271.160004</td>\n",
       "      <td>271.440002</td>\n",
       "      <td>263.760010</td>\n",
       "      <td>265.279999</td>\n",
       "    </tr>\n",
       "    <tr>\n",
       "      <th>2023-09-19 Tue</th>\n",
       "      <td>264.350006</td>\n",
       "      <td>267.850006</td>\n",
       "      <td>261.200012</td>\n",
       "      <td>266.500000</td>\n",
       "    </tr>\n",
       "    <tr>\n",
       "      <th>2023-09-20 Wed</th>\n",
       "      <td>267.040009</td>\n",
       "      <td>273.929993</td>\n",
       "      <td>262.459991</td>\n",
       "      <td>262.589996</td>\n",
       "    </tr>\n",
       "    <tr>\n",
       "      <th>2023-09-21 Thu</th>\n",
       "      <td>257.850006</td>\n",
       "      <td>260.859985</td>\n",
       "      <td>254.210007</td>\n",
       "      <td>255.699997</td>\n",
       "    </tr>\n",
       "    <tr>\n",
       "      <th>2023-09-22 Fri</th>\n",
       "      <td>257.399994</td>\n",
       "      <td>257.790009</td>\n",
       "      <td>244.479996</td>\n",
       "      <td>244.880005</td>\n",
       "    </tr>\n",
       "  </tbody>\n",
       "</table>\n",
       "</div>"
      ],
      "text/plain": [
       "                      Open        High         Low       Close\n",
       "Date                                                          \n",
       "2023-09-18 Mon  271.160004  271.440002  263.760010  265.279999\n",
       "2023-09-19 Tue  264.350006  267.850006  261.200012  266.500000\n",
       "2023-09-20 Wed  267.040009  273.929993  262.459991  262.589996\n",
       "2023-09-21 Thu  257.850006  260.859985  254.210007  255.699997\n",
       "2023-09-22 Fri  257.399994  257.790009  244.479996  244.880005"
      ]
     },
     "execution_count": 4,
     "metadata": {},
     "output_type": "execute_result"
    }
   ],
   "source": [
    "# The model utilizes data retrieved from SQL or Spark (5 points)\n",
    "# read table tesla from stock_db\n",
    "df = pd.read_sql('SELECT * FROM tesla', db, index_col='Date')\n",
    "df[:5]"
   ]
  },
  {
   "cell_type": "code",
   "execution_count": 5,
   "id": "75aaaaeb-9bab-4a4f-9cf8-4cd4c8a9bbbb",
   "metadata": {},
   "outputs": [
    {
     "name": "stdout",
     "output_type": "stream",
     "text": [
      "Generating labels. Since I'm generating a label based on the next day's information, I need to have one less label.\n",
      "rows on dataframe: 250\n",
      "Count of labels: 249\n"
     ]
    }
   ],
   "source": [
    "# Generating labels. Since I'm generating a label based on the next day's information, I need to have one less label.\n",
    "print(\"Generating labels. Since I'm generating a label based on the next day's information, I need to have one less label.\")\n",
    "print(f'rows on dataframe: {len(df)}')\n",
    "\n",
    "labels = []\n",
    "for i in range(len(df)-1):\n",
    "    today = df.iloc[i]\n",
    "    tomorrow = df.iloc[i+1]\n",
    "    \n",
    "    if today.Open<tomorrow.Open:\n",
    "        labels.append('Buy')\n",
    "    else:\n",
    "        labels.append('Sell')\n",
    "\n",
    "print(f'Count of labels: {len(labels)}')"
   ]
  },
  {
   "cell_type": "code",
   "execution_count": 6,
   "id": "16a55beb-0c98-4070-b92d-8cbbbd561805",
   "metadata": {},
   "outputs": [
    {
     "data": {
      "text/html": [
       "<div>\n",
       "<style scoped>\n",
       "    .dataframe tbody tr th:only-of-type {\n",
       "        vertical-align: middle;\n",
       "    }\n",
       "\n",
       "    .dataframe tbody tr th {\n",
       "        vertical-align: top;\n",
       "    }\n",
       "\n",
       "    .dataframe thead th {\n",
       "        text-align: right;\n",
       "    }\n",
       "</style>\n",
       "<table border=\"1\" class=\"dataframe\">\n",
       "  <thead>\n",
       "    <tr style=\"text-align: right;\">\n",
       "      <th></th>\n",
       "      <th>Open</th>\n",
       "      <th>High</th>\n",
       "      <th>Low</th>\n",
       "      <th>Close</th>\n",
       "      <th>Recomendation</th>\n",
       "    </tr>\n",
       "    <tr>\n",
       "      <th>Date</th>\n",
       "      <th></th>\n",
       "      <th></th>\n",
       "      <th></th>\n",
       "      <th></th>\n",
       "      <th></th>\n",
       "    </tr>\n",
       "  </thead>\n",
       "  <tbody>\n",
       "    <tr>\n",
       "      <th>2023-09-18 Mon</th>\n",
       "      <td>271.160004</td>\n",
       "      <td>271.440002</td>\n",
       "      <td>263.760010</td>\n",
       "      <td>265.279999</td>\n",
       "      <td>Sell</td>\n",
       "    </tr>\n",
       "    <tr>\n",
       "      <th>2023-09-19 Tue</th>\n",
       "      <td>264.350006</td>\n",
       "      <td>267.850006</td>\n",
       "      <td>261.200012</td>\n",
       "      <td>266.500000</td>\n",
       "      <td>Buy</td>\n",
       "    </tr>\n",
       "    <tr>\n",
       "      <th>2023-09-20 Wed</th>\n",
       "      <td>267.040009</td>\n",
       "      <td>273.929993</td>\n",
       "      <td>262.459991</td>\n",
       "      <td>262.589996</td>\n",
       "      <td>Sell</td>\n",
       "    </tr>\n",
       "    <tr>\n",
       "      <th>2023-09-21 Thu</th>\n",
       "      <td>257.850006</td>\n",
       "      <td>260.859985</td>\n",
       "      <td>254.210007</td>\n",
       "      <td>255.699997</td>\n",
       "      <td>Sell</td>\n",
       "    </tr>\n",
       "    <tr>\n",
       "      <th>2023-09-22 Fri</th>\n",
       "      <td>257.399994</td>\n",
       "      <td>257.790009</td>\n",
       "      <td>244.479996</td>\n",
       "      <td>244.880005</td>\n",
       "      <td>Sell</td>\n",
       "    </tr>\n",
       "    <tr>\n",
       "      <th>...</th>\n",
       "      <td>...</td>\n",
       "      <td>...</td>\n",
       "      <td>...</td>\n",
       "      <td>...</td>\n",
       "      <td>...</td>\n",
       "    </tr>\n",
       "    <tr>\n",
       "      <th>2024-09-06 Fri</th>\n",
       "      <td>232.600006</td>\n",
       "      <td>233.600006</td>\n",
       "      <td>210.509995</td>\n",
       "      <td>210.729996</td>\n",
       "      <td>Sell</td>\n",
       "    </tr>\n",
       "    <tr>\n",
       "      <th>2024-09-09 Mon</th>\n",
       "      <td>216.199997</td>\n",
       "      <td>219.869995</td>\n",
       "      <td>213.669998</td>\n",
       "      <td>216.270004</td>\n",
       "      <td>Buy</td>\n",
       "    </tr>\n",
       "    <tr>\n",
       "      <th>2024-09-10 Tue</th>\n",
       "      <td>220.070007</td>\n",
       "      <td>226.399994</td>\n",
       "      <td>218.639999</td>\n",
       "      <td>226.169998</td>\n",
       "      <td>Buy</td>\n",
       "    </tr>\n",
       "    <tr>\n",
       "      <th>2024-09-11 Wed</th>\n",
       "      <td>224.550003</td>\n",
       "      <td>228.470001</td>\n",
       "      <td>216.800003</td>\n",
       "      <td>228.130005</td>\n",
       "      <td>Buy</td>\n",
       "    </tr>\n",
       "    <tr>\n",
       "      <th>2024-09-12 Thu</th>\n",
       "      <td>224.660004</td>\n",
       "      <td>231.449997</td>\n",
       "      <td>223.830002</td>\n",
       "      <td>229.809998</td>\n",
       "      <td>Buy</td>\n",
       "    </tr>\n",
       "  </tbody>\n",
       "</table>\n",
       "<p>249 rows × 5 columns</p>\n",
       "</div>"
      ],
      "text/plain": [
       "                      Open        High         Low       Close Recomendation\n",
       "Date                                                                        \n",
       "2023-09-18 Mon  271.160004  271.440002  263.760010  265.279999          Sell\n",
       "2023-09-19 Tue  264.350006  267.850006  261.200012  266.500000           Buy\n",
       "2023-09-20 Wed  267.040009  273.929993  262.459991  262.589996          Sell\n",
       "2023-09-21 Thu  257.850006  260.859985  254.210007  255.699997          Sell\n",
       "2023-09-22 Fri  257.399994  257.790009  244.479996  244.880005          Sell\n",
       "...                    ...         ...         ...         ...           ...\n",
       "2024-09-06 Fri  232.600006  233.600006  210.509995  210.729996          Sell\n",
       "2024-09-09 Mon  216.199997  219.869995  213.669998  216.270004           Buy\n",
       "2024-09-10 Tue  220.070007  226.399994  218.639999  226.169998           Buy\n",
       "2024-09-11 Wed  224.550003  228.470001  216.800003  228.130005           Buy\n",
       "2024-09-12 Thu  224.660004  231.449997  223.830002  229.809998           Buy\n",
       "\n",
       "[249 rows x 5 columns]"
      ]
     },
     "execution_count": 6,
     "metadata": {},
     "output_type": "execute_result"
    }
   ],
   "source": [
    "# A Python script initializes, trains, and evaluates a model (10 points)\n",
    "# I need to drop last row of data so lables can match\n",
    "df = df[:-1].copy()\n",
    "\n",
    "# Adding labels to dataframe\n",
    "df['Recomendation'] = labels\n",
    "\n",
    "# displaying dataframe\n",
    "df"
   ]
  },
  {
   "cell_type": "code",
   "execution_count": 7,
   "id": "0da6e9b0-4520-4dee-a7e4-a68416a1ea60",
   "metadata": {},
   "outputs": [],
   "source": [
    "# The data is cleaned, normalized, and standardized prior to modeling (5 points)\n",
    "# splitting data into X and y\n",
    "X = df.drop('Recomendation',axis=1).values\n",
    "y = df.Recomendation.values"
   ]
  },
  {
   "cell_type": "code",
   "execution_count": 8,
   "id": "e9511553-ba29-4b9f-8715-5b3c1d5ec458",
   "metadata": {},
   "outputs": [
    {
     "data": {
      "text/plain": [
       "array([[271.16000366, 271.44000244, 263.76000977, 265.27999878],\n",
       "       [264.3500061 , 267.8500061 , 261.20001221, 266.5       ],\n",
       "       [267.04000854, 273.92999268, 262.45999146, 262.58999634],\n",
       "       [257.8500061 , 260.85998535, 254.21000671, 255.69999695],\n",
       "       [257.3999939 , 257.79000854, 244.47999573, 244.88000488]])"
      ]
     },
     "execution_count": 8,
     "metadata": {},
     "output_type": "execute_result"
    }
   ],
   "source": [
    "X[:5]"
   ]
  },
  {
   "cell_type": "code",
   "execution_count": 9,
   "id": "bbcaa19f-da98-48ee-95d5-8c19f8426e7e",
   "metadata": {},
   "outputs": [
    {
     "data": {
      "text/plain": [
       "array(['Sell', 'Buy', 'Sell', 'Sell', 'Sell'], dtype=object)"
      ]
     },
     "execution_count": 9,
     "metadata": {},
     "output_type": "execute_result"
    }
   ],
   "source": [
    "y[:5]"
   ]
  },
  {
   "cell_type": "code",
   "execution_count": 14,
   "id": "d2cc208c",
   "metadata": {},
   "outputs": [
    {
     "data": {
      "text/plain": [
       "[1, 0, 1, 1, 1]"
      ]
     },
     "execution_count": 14,
     "metadata": {},
     "output_type": "execute_result"
    }
   ],
   "source": [
    "# Tokenizing labels\n",
    "new_y = [ 1 if v=='Sell' else 0 for v in y]\n",
    "new_y[:5]"
   ]
  },
  {
   "cell_type": "code",
   "execution_count": 16,
   "id": "dc85d7fc",
   "metadata": {},
   "outputs": [],
   "source": [
    "# Split data into training and validation\n",
    "X_train, X_test, y_train, y_test = train_test_split(X,new_y)"
   ]
  },
  {
   "cell_type": "code",
   "execution_count": 20,
   "id": "a0a1df67",
   "metadata": {},
   "outputs": [
    {
     "data": {
      "text/html": [
       "<style>#sk-container-id-2 {color: black;background-color: white;}#sk-container-id-2 pre{padding: 0;}#sk-container-id-2 div.sk-toggleable {background-color: white;}#sk-container-id-2 label.sk-toggleable__label {cursor: pointer;display: block;width: 100%;margin-bottom: 0;padding: 0.3em;box-sizing: border-box;text-align: center;}#sk-container-id-2 label.sk-toggleable__label-arrow:before {content: \"▸\";float: left;margin-right: 0.25em;color: #696969;}#sk-container-id-2 label.sk-toggleable__label-arrow:hover:before {color: black;}#sk-container-id-2 div.sk-estimator:hover label.sk-toggleable__label-arrow:before {color: black;}#sk-container-id-2 div.sk-toggleable__content {max-height: 0;max-width: 0;overflow: hidden;text-align: left;background-color: #f0f8ff;}#sk-container-id-2 div.sk-toggleable__content pre {margin: 0.2em;color: black;border-radius: 0.25em;background-color: #f0f8ff;}#sk-container-id-2 input.sk-toggleable__control:checked~div.sk-toggleable__content {max-height: 200px;max-width: 100%;overflow: auto;}#sk-container-id-2 input.sk-toggleable__control:checked~label.sk-toggleable__label-arrow:before {content: \"▾\";}#sk-container-id-2 div.sk-estimator input.sk-toggleable__control:checked~label.sk-toggleable__label {background-color: #d4ebff;}#sk-container-id-2 div.sk-label input.sk-toggleable__control:checked~label.sk-toggleable__label {background-color: #d4ebff;}#sk-container-id-2 input.sk-hidden--visually {border: 0;clip: rect(1px 1px 1px 1px);clip: rect(1px, 1px, 1px, 1px);height: 1px;margin: -1px;overflow: hidden;padding: 0;position: absolute;width: 1px;}#sk-container-id-2 div.sk-estimator {font-family: monospace;background-color: #f0f8ff;border: 1px dotted black;border-radius: 0.25em;box-sizing: border-box;margin-bottom: 0.5em;}#sk-container-id-2 div.sk-estimator:hover {background-color: #d4ebff;}#sk-container-id-2 div.sk-parallel-item::after {content: \"\";width: 100%;border-bottom: 1px solid gray;flex-grow: 1;}#sk-container-id-2 div.sk-label:hover label.sk-toggleable__label {background-color: #d4ebff;}#sk-container-id-2 div.sk-serial::before {content: \"\";position: absolute;border-left: 1px solid gray;box-sizing: border-box;top: 0;bottom: 0;left: 50%;z-index: 0;}#sk-container-id-2 div.sk-serial {display: flex;flex-direction: column;align-items: center;background-color: white;padding-right: 0.2em;padding-left: 0.2em;position: relative;}#sk-container-id-2 div.sk-item {position: relative;z-index: 1;}#sk-container-id-2 div.sk-parallel {display: flex;align-items: stretch;justify-content: center;background-color: white;position: relative;}#sk-container-id-2 div.sk-item::before, #sk-container-id-2 div.sk-parallel-item::before {content: \"\";position: absolute;border-left: 1px solid gray;box-sizing: border-box;top: 0;bottom: 0;left: 50%;z-index: -1;}#sk-container-id-2 div.sk-parallel-item {display: flex;flex-direction: column;z-index: 1;position: relative;background-color: white;}#sk-container-id-2 div.sk-parallel-item:first-child::after {align-self: flex-end;width: 50%;}#sk-container-id-2 div.sk-parallel-item:last-child::after {align-self: flex-start;width: 50%;}#sk-container-id-2 div.sk-parallel-item:only-child::after {width: 0;}#sk-container-id-2 div.sk-dashed-wrapped {border: 1px dashed gray;margin: 0 0.4em 0.5em 0.4em;box-sizing: border-box;padding-bottom: 0.4em;background-color: white;}#sk-container-id-2 div.sk-label label {font-family: monospace;font-weight: bold;display: inline-block;line-height: 1.2em;}#sk-container-id-2 div.sk-label-container {text-align: center;}#sk-container-id-2 div.sk-container {/* jupyter's `normalize.less` sets `[hidden] { display: none; }` but bootstrap.min.css set `[hidden] { display: none !important; }` so we also need the `!important` here to be able to override the default hidden behavior on the sphinx rendered scikit-learn.org. See: https://github.com/scikit-learn/scikit-learn/issues/21755 */display: inline-block !important;position: relative;}#sk-container-id-2 div.sk-text-repr-fallback {display: none;}</style><div id=\"sk-container-id-2\" class=\"sk-top-container\"><div class=\"sk-text-repr-fallback\"><pre>LinearRegression()</pre><b>In a Jupyter environment, please rerun this cell to show the HTML representation or trust the notebook. <br />On GitHub, the HTML representation is unable to render, please try loading this page with nbviewer.org.</b></div><div class=\"sk-container\" hidden><div class=\"sk-item\"><div class=\"sk-estimator sk-toggleable\"><input class=\"sk-toggleable__control sk-hidden--visually\" id=\"sk-estimator-id-2\" type=\"checkbox\" checked><label for=\"sk-estimator-id-2\" class=\"sk-toggleable__label sk-toggleable__label-arrow\">LinearRegression</label><div class=\"sk-toggleable__content\"><pre>LinearRegression()</pre></div></div></div></div></div>"
      ],
      "text/plain": [
       "LinearRegression()"
      ]
     },
     "execution_count": 20,
     "metadata": {},
     "output_type": "execute_result"
    }
   ],
   "source": [
    "# The model demonstrates meaningful predictive power at least 75% \n",
    "# classification accuracy or 0.80 R-squared. (5 points)\n",
    "\n",
    "model = LinearRegression()\n",
    "model.fit(X_train,y_train)"
   ]
  },
  {
   "cell_type": "code",
   "execution_count": 30,
   "id": "2b5c13c6",
   "metadata": {},
   "outputs": [
    {
     "data": {
      "text/plain": [
       "'The validation accuracy score of 46.57% does not meet standards.'"
      ]
     },
     "execution_count": 30,
     "metadata": {},
     "output_type": "execute_result"
    }
   ],
   "source": [
    "# Prediction score\n",
    "f'The validation accuracy score of {model.score(X_test,y_test)*100:.2f}% does not meet standards.'"
   ]
  },
  {
   "cell_type": "markdown",
   "id": "e44b4775",
   "metadata": {},
   "source": [
    "#### Data Model Optimization (25 points)"
   ]
  },
  {
   "cell_type": "code",
   "execution_count": 34,
   "id": "a6434082",
   "metadata": {},
   "outputs": [
    {
     "data": {
      "text/plain": [
       "['Sell', 'Buy', 'Sell', 'Sell', 'Sell']"
      ]
     },
     "execution_count": 34,
     "metadata": {},
     "output_type": "execute_result"
    }
   ],
   "source": [
    "new_y = [ 'Buy' if x>=0 else 'Sell' for x in df.Close - df.Open]\n",
    "new_y[:5]"
   ]
  },
  {
   "cell_type": "code",
   "execution_count": 35,
   "id": "e061197b",
   "metadata": {},
   "outputs": [
    {
     "data": {
      "text/plain": [
       "array([[271.16000366, 271.44000244, 263.76000977, 265.27999878],\n",
       "       [264.3500061 , 267.8500061 , 261.20001221, 266.5       ],\n",
       "       [267.04000854, 273.92999268, 262.45999146, 262.58999634],\n",
       "       [257.8500061 , 260.85998535, 254.21000671, 255.69999695],\n",
       "       [257.3999939 , 257.79000854, 244.47999573, 244.88000488]])"
      ]
     },
     "execution_count": 35,
     "metadata": {},
     "output_type": "execute_result"
    }
   ],
   "source": [
    "X[:5]"
   ]
  },
  {
   "cell_type": "code",
   "execution_count": 37,
   "id": "68de46b4",
   "metadata": {},
   "outputs": [],
   "source": [
    "new_y = [1 if x=='Sell' else 0 for x in new_y]"
   ]
  },
  {
   "cell_type": "code",
   "execution_count": 39,
   "id": "4d050610",
   "metadata": {},
   "outputs": [],
   "source": [
    "# Split data into training and validation\n",
    "X_train, X_test, y_train, y_test = train_test_split(X,new_y)"
   ]
  },
  {
   "cell_type": "code",
   "execution_count": 41,
   "id": "91bad336",
   "metadata": {},
   "outputs": [
    {
     "data": {
      "text/html": [
       "<style>#sk-container-id-5 {color: black;background-color: white;}#sk-container-id-5 pre{padding: 0;}#sk-container-id-5 div.sk-toggleable {background-color: white;}#sk-container-id-5 label.sk-toggleable__label {cursor: pointer;display: block;width: 100%;margin-bottom: 0;padding: 0.3em;box-sizing: border-box;text-align: center;}#sk-container-id-5 label.sk-toggleable__label-arrow:before {content: \"▸\";float: left;margin-right: 0.25em;color: #696969;}#sk-container-id-5 label.sk-toggleable__label-arrow:hover:before {color: black;}#sk-container-id-5 div.sk-estimator:hover label.sk-toggleable__label-arrow:before {color: black;}#sk-container-id-5 div.sk-toggleable__content {max-height: 0;max-width: 0;overflow: hidden;text-align: left;background-color: #f0f8ff;}#sk-container-id-5 div.sk-toggleable__content pre {margin: 0.2em;color: black;border-radius: 0.25em;background-color: #f0f8ff;}#sk-container-id-5 input.sk-toggleable__control:checked~div.sk-toggleable__content {max-height: 200px;max-width: 100%;overflow: auto;}#sk-container-id-5 input.sk-toggleable__control:checked~label.sk-toggleable__label-arrow:before {content: \"▾\";}#sk-container-id-5 div.sk-estimator input.sk-toggleable__control:checked~label.sk-toggleable__label {background-color: #d4ebff;}#sk-container-id-5 div.sk-label input.sk-toggleable__control:checked~label.sk-toggleable__label {background-color: #d4ebff;}#sk-container-id-5 input.sk-hidden--visually {border: 0;clip: rect(1px 1px 1px 1px);clip: rect(1px, 1px, 1px, 1px);height: 1px;margin: -1px;overflow: hidden;padding: 0;position: absolute;width: 1px;}#sk-container-id-5 div.sk-estimator {font-family: monospace;background-color: #f0f8ff;border: 1px dotted black;border-radius: 0.25em;box-sizing: border-box;margin-bottom: 0.5em;}#sk-container-id-5 div.sk-estimator:hover {background-color: #d4ebff;}#sk-container-id-5 div.sk-parallel-item::after {content: \"\";width: 100%;border-bottom: 1px solid gray;flex-grow: 1;}#sk-container-id-5 div.sk-label:hover label.sk-toggleable__label {background-color: #d4ebff;}#sk-container-id-5 div.sk-serial::before {content: \"\";position: absolute;border-left: 1px solid gray;box-sizing: border-box;top: 0;bottom: 0;left: 50%;z-index: 0;}#sk-container-id-5 div.sk-serial {display: flex;flex-direction: column;align-items: center;background-color: white;padding-right: 0.2em;padding-left: 0.2em;position: relative;}#sk-container-id-5 div.sk-item {position: relative;z-index: 1;}#sk-container-id-5 div.sk-parallel {display: flex;align-items: stretch;justify-content: center;background-color: white;position: relative;}#sk-container-id-5 div.sk-item::before, #sk-container-id-5 div.sk-parallel-item::before {content: \"\";position: absolute;border-left: 1px solid gray;box-sizing: border-box;top: 0;bottom: 0;left: 50%;z-index: -1;}#sk-container-id-5 div.sk-parallel-item {display: flex;flex-direction: column;z-index: 1;position: relative;background-color: white;}#sk-container-id-5 div.sk-parallel-item:first-child::after {align-self: flex-end;width: 50%;}#sk-container-id-5 div.sk-parallel-item:last-child::after {align-self: flex-start;width: 50%;}#sk-container-id-5 div.sk-parallel-item:only-child::after {width: 0;}#sk-container-id-5 div.sk-dashed-wrapped {border: 1px dashed gray;margin: 0 0.4em 0.5em 0.4em;box-sizing: border-box;padding-bottom: 0.4em;background-color: white;}#sk-container-id-5 div.sk-label label {font-family: monospace;font-weight: bold;display: inline-block;line-height: 1.2em;}#sk-container-id-5 div.sk-label-container {text-align: center;}#sk-container-id-5 div.sk-container {/* jupyter's `normalize.less` sets `[hidden] { display: none; }` but bootstrap.min.css set `[hidden] { display: none !important; }` so we also need the `!important` here to be able to override the default hidden behavior on the sphinx rendered scikit-learn.org. See: https://github.com/scikit-learn/scikit-learn/issues/21755 */display: inline-block !important;position: relative;}#sk-container-id-5 div.sk-text-repr-fallback {display: none;}</style><div id=\"sk-container-id-5\" class=\"sk-top-container\"><div class=\"sk-text-repr-fallback\"><pre>LinearRegression()</pre><b>In a Jupyter environment, please rerun this cell to show the HTML representation or trust the notebook. <br />On GitHub, the HTML representation is unable to render, please try loading this page with nbviewer.org.</b></div><div class=\"sk-container\" hidden><div class=\"sk-item\"><div class=\"sk-estimator sk-toggleable\"><input class=\"sk-toggleable__control sk-hidden--visually\" id=\"sk-estimator-id-5\" type=\"checkbox\" checked><label for=\"sk-estimator-id-5\" class=\"sk-toggleable__label sk-toggleable__label-arrow\">LinearRegression</label><div class=\"sk-toggleable__content\"><pre>LinearRegression()</pre></div></div></div></div></div>"
      ],
      "text/plain": [
       "LinearRegression()"
      ]
     },
     "execution_count": 41,
     "metadata": {},
     "output_type": "execute_result"
    }
   ],
   "source": [
    "model2 = LinearRegression()\n",
    "model2.fit(X_train,y_train)"
   ]
  },
  {
   "cell_type": "code",
   "execution_count": 43,
   "id": "6d26e0c4",
   "metadata": {},
   "outputs": [
    {
     "data": {
      "text/plain": [
       "0.602776094717671"
      ]
     },
     "execution_count": 43,
     "metadata": {},
     "output_type": "execute_result"
    }
   ],
   "source": [
    "model2.score(X_train,y_train)"
   ]
  },
  {
   "cell_type": "code",
   "execution_count": null,
   "id": "b2659ab2",
   "metadata": {},
   "outputs": [],
   "source": []
  }
 ],
 "metadata": {
  "kernelspec": {
   "display_name": "Python 3 (ipykernel)",
   "language": "python",
   "name": "python3"
  },
  "language_info": {
   "codemirror_mode": {
    "name": "ipython",
    "version": 3
   },
   "file_extension": ".py",
   "mimetype": "text/x-python",
   "name": "python",
   "nbconvert_exporter": "python",
   "pygments_lexer": "ipython3",
   "version": "3.11.7"
  }
 },
 "nbformat": 4,
 "nbformat_minor": 5
}
